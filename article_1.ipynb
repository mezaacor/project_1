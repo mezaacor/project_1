{
 "cells": [
  {
   "cell_type": "markdown",
   "metadata": {},
   "source": [
    "# Time Series Forecasting, Methods and Trends"
   ]
  },
  {
   "cell_type": "markdown",
   "metadata": {},
   "source": [
    "**Ronny A. Meza A. and Alberto Fernández H**"
   ]
  },
  {
   "cell_type": "markdown",
   "metadata": {},
   "source": [
    "# Introduction"
   ]
  },
  {
   "cell_type": "markdown",
   "metadata": {},
   "source": [
    "This notebook is the complement of an article with the same name. In this notebook we are to share the data and methodology used for to reach the goals. The main objective will be to evaluate the evolution of the time series forecasting methods and the different topics to which it was applied over time. The main objective will be to evaluate the evolution of the time series forecasting methods and the different topics to which it was applied over time. In this way, we downloaded the references from Web of Sciences, with the following search criterias: Query: (TS=(time* AND series* AND forecasting)) AND LANGUAGE: (English) AND DOCUMENT TYPES: (Article OR Book Chapter OR Data Paper OR Database Review). The references with the all fields were downloaded in batches of 500 until until completing all the references of the search. For more information about getting bibliography metadata consult the following link: Bibliographyc Metadata.\n",
    "\n",
    "The analysis was developed using Tethne Python package. Tethne is a Python software package for parsing and analyzing bibliographic metadata; This tool was developed by the Laubichler Lab and the Digital Innovation Group at Arizona State University as part of an initiative for digital and computational humanities (d+cH). It is important to take in consideration that Tethne is developed in Python 2.7. Python 3 is a distinct language from Python 2.7, and many packages have not yet made the leap to this new platform. A Python 3-compatible version is in the works.\n",
    "\n",
    "In this project we use Tethne because, it provides tools for easily parsing and analyzing bibliographic data in Python. The primary emphasis is on working with data from the Web of Science database, and also, Tethne provides efficient methods for modeling and analyzing topics changing in time."
   ]
  },
  {
   "cell_type": "code",
   "execution_count": 1,
   "metadata": {},
   "outputs": [
    {
     "name": "stdout",
     "output_type": "stream",
     "text": [
      "Populating the interactive namespace from numpy and matplotlib\n"
     ]
    }
   ],
   "source": [
    "#Libraries\n",
    "%pylab inline\n",
    "from tethne.readers import wos\n",
    "from tethne.readers import merge\n",
    "import matplotlib.pyplot as plt\n",
    "from tethne import networks\n",
    "from tethne.writers.graph import to_graphml\n",
    "from tethne import bibliographic_coupling\n",
    "from tethne.networks import authors\n",
    "from tethne.utilities import _iterable\n",
    "from tethne import GraphCollection\n",
    "from tethne.networks import coauthors\n",
    "import networkx as nx\n",
    "from collections import defaultdict\n",
    "import warnings\n",
    "from tethne import networks\n",
    "from pprint import pprint\n",
    "from tethne import tokenize\n",
    "from tethne.model.corpus import mallet\n",
    "from tethne.networks import topics\n",
    "from tethne.writers import graph\n",
    "from nltk.corpus import stopwords\n",
    "import numpy as np\n",
    "import pandas as pd\n",
    "import seaborn as sns\n",
    "from tethne.analyze.corpus import burstness\n",
    "from tethne.plot import plot_burstness\n",
    "import warnings\n",
    "warnings.filterwarnings(\"ignore\")"
   ]
  },
  {
   "cell_type": "code",
   "execution_count": 2,
   "metadata": {},
   "outputs": [],
   "source": [
    "wos_corpus = wos.read('/home/ronny/Documentos/Artículos Doctorado/jupyter_codes/WOS')"
   ]
  },
  {
   "cell_type": "markdown",
   "metadata": {},
   "source": [
    "## 2. Methodology\n",
    "References from **Web of Sciences** with the following search parameters: *(TS=(time* AND series* AND forecasting)) AND LANGUAGE: (English) AND DOCUMENT TYPES: (Article OR Book Chapter OR Data Paper OR Database Review).* `The time windows is from 1900 to march, 15, 2019`. \n",
    "\n",
    "The Tethne' library called **read** can to load a list of Papers from a directory containing multiple data files; in our case, we have 31 records. Only it is necesary to provide the path to a directory containing several WoS field-tagged data files. The read function knows that your path is a directory and not a data file. "
   ]
  },
  {
   "cell_type": "code",
   "execution_count": 3,
   "metadata": {},
   "outputs": [],
   "source": [
    "wos_corpus = wos.read('/home/ronny/Documentos/Artículos Doctorado/Article_1_py/WOS')"
   ]
  },
  {
   "cell_type": "code",
   "execution_count": 4,
   "metadata": {},
   "outputs": [
    {
     "name": "stdout",
     "output_type": "stream",
     "text": [
      "Loaded 15106 Web of Sciences references\n"
     ]
    }
   ],
   "source": [
    "ref_num = len(wos_corpus)\n",
    "print 'Loaded %i Web of Sciences references' % ref_num"
   ]
  },
  {
   "cell_type": "code",
   "execution_count": 5,
   "metadata": {},
   "outputs": [],
   "source": [
    "#Creating graphics with Latex properties\n",
    "from matplotlib import rc\n",
    "rc('font',**{'family':'sans-serif','sans-serif':['Helvetica']})\n",
    "## for Palatino and other serif fonts use:\n",
    "#rc('font',**{'family':'serif','serif':['Palatino']})\n",
    "rc('text', usetex=True)\n",
    "\n",
    "from __future__ import unicode_literals\n",
    "import matplotlib\n",
    "matplotlib.rcParams['text.usetex'] = True\n",
    "matplotlib.rcParams['text.latex.unicode'] = True"
   ]
  },
  {
   "cell_type": "code",
   "execution_count": 6,
   "metadata": {},
   "outputs": [
    {
     "data": {
      "image/png": "[encoded data removed]",
      "text/plain": [
       "<Figure size 1152x432 with 1 Axes>"
      ]
     },
     "metadata": {
      "needs_background": "light"
     },
     "output_type": "display_data"
    }
   ],
   "source": [
    "#Note that we can look how documents themselves are distributed using the distribution() method.\n",
    "\n",
    "#plt.rcParams[\"figure.figsize\"]= [6.4, 4]\n",
    "plt.rcParams[\"figure.figsize\"]= [16, 6]\n",
    "\n",
    "plt.bar(*wos_corpus.distribution(), color='gray', edgecolor='black')    # <-- The action.\n",
    "\n",
    "plt.xlabel(r'\\textbf{YEAR}', fontsize=12)\n",
    "plt.ylabel(r'\\textbf{NUMBER OF DOCUMENTS}', fontsize=12)\n",
    "plt.title(r'\\textbf{TIME SERIES FORECASTING PUBLICATIONS PER YEAR}', fontsize=14, color='k')\n",
    "plt.grid(True)\n",
    "#plt.savefig('figure_1')\n",
    "plt.show()"
   ]
  },
  {
   "cell_type": "markdown",
   "metadata": {},
   "source": [
    "## 2.1 WoS Abstracts"
   ]
  },
  {
   "cell_type": "markdown",
   "metadata": {},
   "source": [
    "The abstract_to_features method converts all of the available abstracts in our Corpus to a unigram featureset. It takes no arguments. The abstracts will be diced up into their constituent words, punctuation and capitalization is removed, and a featureset called abstractTerms is generated. By default, abstract_to_features will apply the NLTK stoplist and Porter stemmer."
   ]
  },
  {
   "cell_type": "code",
   "execution_count": 7,
   "metadata": {},
   "outputs": [],
   "source": [
    "wos_corpus.index_feature('abstract', tokenize=tokenize, structured=True)"
   ]
  },
  {
   "cell_type": "code",
   "execution_count": 8,
   "metadata": {},
   "outputs": [
    {
     "data": {
      "text/plain": [
       "[u'abstract', 'citations', 'authors']"
      ]
     },
     "execution_count": 8,
     "metadata": {},
     "output_type": "execute_result"
    }
   ],
   "source": [
    "wos_corpus.features.keys()"
   ]
  },
  {
   "cell_type": "code",
   "execution_count": 9,
   "metadata": {},
   "outputs": [
    {
     "name": "stdout",
     "output_type": "stream",
     "text": [
      "There are 49571 features in the abstract featureset.\n"
     ]
    }
   ],
   "source": [
    "print 'There are {0} features in the abstract featureset.'.format(len(wos_corpus.features['abstract'].index))"
   ]
  },
  {
   "cell_type": "code",
   "execution_count": 10,
   "metadata": {},
   "outputs": [
    {
     "name": "stdout",
     "output_type": "stream",
     "text": [
      "Only 14992 of 15106 papers have abstracts\n"
     ]
    }
   ],
   "source": [
    "print 'Only {0} of {1} papers have abstracts'.format(len(wos_corpus.features['abstract'].features), len(wos_corpus.papers))"
   ]
  },
  {
   "cell_type": "code",
   "execution_count": 11,
   "metadata": {},
   "outputs": [
    {
     "name": "stdout",
     "output_type": "stream",
     "text": [
      "This corpus contains the following features: \n",
      "\tabstract\n",
      "\tcitations\n",
      "\tauthors\n"
     ]
    }
   ],
   "source": [
    "print 'This corpus contains the following features: \\n\\t%s' % '\\n\\t'.join(wos_corpus.features.keys())"
   ]
  },
  {
   "cell_type": "markdown",
   "metadata": {},
   "source": [
    "## 3. Analyzing research topics in time series forecasting, each 10 years \n",
    "**Dividing the Population**"
   ]
  },
  {
   "cell_type": "code",
   "execution_count": 12,
   "metadata": {},
   "outputs": [],
   "source": [
    "corpus_1940 = wos_corpus.subcorpus(('date', range(1940, 1990)))\n",
    "corpus_1990 = wos_corpus.subcorpus(('date', range(1991, 2000)))\n",
    "corpus_2000 = wos_corpus.subcorpus(('date', range(2001, 2010)))\n",
    "corpus_2010 = wos_corpus.subcorpus(('date', range(2011, 2020)))"
   ]
  },
  {
   "cell_type": "code",
   "execution_count": 13,
   "metadata": {},
   "outputs": [],
   "source": [
    "#Function for determinant the corpus length\n",
    "def len_corpus(corpus_data):\n",
    "    ref_num1 = len(corpus_data)\n",
    "    print 'The subcorpus has %i references' % ref_num1"
   ]
  },
  {
   "cell_type": "code",
   "execution_count": 14,
   "metadata": {},
   "outputs": [
    {
     "name": "stdout",
     "output_type": "stream",
     "text": [
      "The subcorpus has 140 references\n",
      "The subcorpus has 1406 references\n",
      "The subcorpus has 3615 references\n",
      "The subcorpus has 8994 references\n"
     ]
    }
   ],
   "source": [
    "len_corpus(corpus_1940)\n",
    "len_corpus(corpus_1990)\n",
    "len_corpus(corpus_2000)\n",
    "len_corpus(corpus_2010)"
   ]
  },
  {
   "cell_type": "code",
   "execution_count": 15,
   "metadata": {},
   "outputs": [
    {
     "data": {
      "image/png": "[encoded data removed]",
      "text/plain": [
       "<Figure size 1152x432 with 1 Axes>"
      ]
     },
     "metadata": {
      "needs_background": "light"
     },
     "output_type": "display_data"
    }
   ],
   "source": [
    "#Subcorpus 1\n",
    "plt.bar(*corpus_1940.distribution(), color='gray', edgecolor='black')    # <-- The action.\n",
    "plt.xlabel(r'\\textbf{YEAR}', fontsize=11)\n",
    "plt.ylabel(r'\\textbf{NUMBER OF DOCUMENTS}', fontsize=11)\n",
    "plt.title(r'\\textbf{PUBLICATIONS (1940 - 1990)}', fontsize = 14, color='k')\n",
    "plt.grid(True)"
   ]
  },
  {
   "cell_type": "code",
   "execution_count": 16,
   "metadata": {},
   "outputs": [
    {
     "data": {
      "image/png": "[encoded data removed]",
      "text/plain": [
       "<Figure size 1152x432 with 1 Axes>"
      ]
     },
     "metadata": {
      "needs_background": "light"
     },
     "output_type": "display_data"
    }
   ],
   "source": [
    "#Subcorpus 2\n",
    "plt.bar(*corpus_1990.distribution(), color='gray', edgecolor='black')    # <-- The action.\n",
    "plt.xlabel(r'\\textbf{YEAR}', fontsize=11)\n",
    "plt.ylabel(r'\\textbf{NUMBER OF DOCUMENTS}', fontsize=11)\n",
    "plt.title(r'\\textbf{PUBLICATIONS (1990 - 2000)}', fontsize = 14, color='k')\n",
    "plt.grid(True)"
   ]
  },
  {
   "cell_type": "code",
   "execution_count": 17,
   "metadata": {},
   "outputs": [
    {
     "data": {
      "image/png": "[encoded data removed]",
      "text/plain": [
       "<Figure size 1152x432 with 1 Axes>"
      ]
     },
     "metadata": {
      "needs_background": "light"
     },
     "output_type": "display_data"
    }
   ],
   "source": [
    "#Subcorpus 3\n",
    "plt.bar(*corpus_2000.distribution(), color='gray', edgecolor='black')    # <-- The action.\n",
    "plt.xlabel(r'\\textbf{YEAR}', fontsize=11)\n",
    "plt.ylabel(r'\\textbf{NUMBER OF DOCUMENTS}', fontsize=11)\n",
    "plt.title(r'\\textbf{PUBLICATIONS (2000 - 2010)}', fontsize = 14, color='k')\n",
    "plt.grid(True)"
   ]
  },
  {
   "cell_type": "code",
   "execution_count": 18,
   "metadata": {},
   "outputs": [
    {
     "data": {
      "image/png": "[encoded data removed]",
      "text/plain": [
       "<Figure size 1152x432 with 1 Axes>"
      ]
     },
     "metadata": {
      "needs_background": "light"
     },
     "output_type": "display_data"
    }
   ],
   "source": [
    "#Subcorpus 4\n",
    "plt.bar(*corpus_2010.distribution(), color='gray', edgecolor='black')    # <-- The action.\n",
    "plt.xlabel(r'\\textbf{YEAR}', fontsize=11)\n",
    "plt.ylabel(r'\\textbf{NUMBER OF DOCUMENTS}', fontsize=11)\n",
    "plt.title(r'\\textbf{PUBLICATIONS (2010 - 2019)}', fontsize = 14, color='k')\n",
    "plt.grid(True)\n",
    "plt.savefig('subcorpus')"
   ]
  },
  {
   "cell_type": "markdown",
   "metadata": {},
   "source": [
    "## Subcorpus Keywords Analysis"
   ]
  },
  {
   "cell_type": "code",
   "execution_count": 19,
   "metadata": {},
   "outputs": [
    {
     "data": {
      "text/plain": [
       "[u'abstract', 'citations', u'authorKeywords', 'authors']"
      ]
     },
     "execution_count": 19,
     "metadata": {},
     "output_type": "execute_result"
    }
   ],
   "source": [
    "#wos_corpus.index('authorKeywords')\n",
    "\n",
    "corpus_1940.index_feature('authorKeywords')\n",
    "corpus_1940.features.keys()"
   ]
  },
  {
   "cell_type": "code",
   "execution_count": 20,
   "metadata": {},
   "outputs": [
    {
     "name": "stdout",
     "output_type": "stream",
     "text": [
      "Keyword LOAD-DURATION is found in 1 documents\n",
      "Keyword BOX-JENKINS is found in 11 documents\n",
      "Keyword ENERGY is found in 2 documents\n",
      "Keyword FORECASTING is found in 19 documents\n",
      "Keyword ORDER DETERMINATION is found in 1 documents\n",
      "Keyword TIME SERIES is found in 27 documents\n",
      "Keyword EXPONENTIAL SMOOTHING is found in 5 documents\n",
      "Keyword ARARMA MODEL is found in 1 documents\n",
      "Keyword PREDICTION VARIANCE HORIZON is found in 1 documents\n",
      "Keyword CAT is found in 1 documents\n",
      "Keyword ARIMA MODEL is found in 1 documents\n",
      "Keyword TOURISM is found in 1 documents\n",
      "Keyword ARIMA is found in 15 documents\n",
      "Keyword BOX-JENKINS MODELS is found in 1 documents\n",
      "Keyword ECONOMETRIC FORECASTING is found in 1 documents\n",
      "Keyword COMBINATION FORECASTING is found in 1 documents\n",
      "Keyword LABOR PRODUCTIVITY is found in 1 documents\n",
      "Keyword AGGREGATE SERIES is found in 1 documents\n",
      "Keyword MULTIPLE FORECASTING MODEL is found in 1 documents\n",
      "Keyword HILBERT SPACE is found in 1 documents\n",
      "Keyword SMOG EFFECT is found in 1 documents\n",
      "Keyword REGRESSION is found in 3 documents\n",
      "Keyword POLLUTANT CONCENTRATIONS is found in 1 documents\n",
      "Keyword LRE is found in 1 documents\n",
      "Keyword LINEAR RECURSIVE ESTIMATOR is found in 1 documents\n",
      "Keyword MAKRIDAKIS-WHEELWRIGHT is found in 1 documents\n",
      "Keyword WIDROW'S LEAST MEAN SQUARE is found in 1 documents\n",
      "Keyword FORECAST EFFICIENCY is found in 1 documents\n",
      "Keyword LINEAR COMBINATION is found in 2 documents\n",
      "Keyword AGGREGATION is found in 2 documents\n",
      "Keyword MODELLING is found in 1 documents\n",
      "Keyword SYTEMATIC SAMPLING is found in 1 documents\n",
      "Keyword WINTER is found in 1 documents\n",
      "Keyword WEATHER is found in 4 documents\n",
      "Keyword PETTERN is found in 1 documents\n",
      "Keyword TEMPERATURE is found in 1 documents\n",
      "Keyword AUTOCORRELATION is found in 4 documents\n",
      "Keyword OPTIMIZATION is found in 1 documents\n",
      "Keyword SMOOTH is found in 1 documents\n",
      "Keyword HOUSING STARTS is found in 1 documents\n",
      "Keyword ECONOMIC is found in 8 documents\n",
      "Keyword SALES is found in 4 documents\n",
      "Keyword TIME-SERIES is found in 2 documents\n",
      "Keyword DYNAMIC LINEAR MODEL is found in 1 documents\n",
      "Keyword EXOGENOUS VARIABLES is found in 4 documents\n",
      "Keyword ENDOGENOUS VARIABLES is found in 1 documents\n",
      "Keyword TIME SERIES ANALYSIS is found in 4 documents\n",
      "Keyword ROBUST REGRESSION is found in 1 documents\n",
      "Keyword TELECOMMUNICATIONS DEMAND is found in 1 documents\n",
      "Keyword AUTOCORRELATED TIME SERIES is found in 1 documents\n",
      "Keyword STOCHASTIC is found in 4 documents\n",
      "Keyword BROWN'S ADAPTIVE SMOOTHING is found in 1 documents\n",
      "Keyword KALMAN FILTER is found in 3 documents\n",
      "Keyword STATISTICS is found in 2 documents\n",
      "Keyword MUNICIPAL is found in 1 documents\n",
      "Keyword WATER USE is found in 1 documents\n",
      "Keyword VARIANCES is found in 1 documents\n",
      "Keyword POOLED CROSS‐SECTIONAL is found in 1 documents\n",
      "Keyword SHORT HISTORY FORECASTING is found in 1 documents\n",
      "Keyword CHANGE‐POINT MODELS is found in 1 documents\n",
      "Keyword PREDICTIVE MEANS is found in 1 documents\n",
      "Keyword DISTRIBUTED LAG is found in 1 documents\n",
      "Keyword TRANSFER FUNCTION is found in 2 documents\n",
      "Keyword COMPOSITE FORECASTS is found in 1 documents\n",
      "Keyword ARIMA MODELS is found in 7 documents\n",
      "Keyword REGRESSION, DYNAMIC REGRESSION is found in 1 documents\n",
      "Keyword BENCHMARKING is found in 1 documents\n",
      "Keyword ARMA is found in 9 documents\n",
      "Keyword TIME SERIES MODEL is found in 3 documents\n",
      "Keyword MODEL FORECAST is found in 1 documents\n",
      "Keyword AMERICAN STATISTICAL ASSOCIATION is found in 1 documents\n",
      "Keyword MORTALITY PROBABILITY is found in 1 documents\n",
      "Keyword MEAN ABSOLUTE PERCENT ERROR is found in 1 documents\n",
      "Keyword COST is found in 1 documents\n",
      "Keyword DEMAND is found in 5 documents\n",
      "Keyword SALES FORECASTING is found in 1 documents\n",
      "Keyword JUDGEMENTAL FORECASTING is found in 1 documents\n",
      "Keyword FORECASTING ACCURACY is found in 2 documents\n",
      "Keyword BOX-JENKINS ANALYSIS is found in 1 documents\n",
      "Keyword INWARD is found in 1 documents\n",
      "Keyword USE is found in 1 documents\n",
      "Keyword BOX AND JENKINS is found in 1 documents\n",
      "Keyword OUTWARD is found in 1 documents\n",
      "Keyword BAYESIAN is found in 4 documents\n",
      "Keyword SEASONAL MODELS is found in 1 documents\n",
      "Keyword POWER TRANSFORMATION is found in 1 documents\n",
      "Keyword INFORMATION CRITERION is found in 1 documents\n",
      "Keyword FORECASTING SYSTEM is found in 1 documents\n",
      "Keyword £M3 is found in 1 documents\n",
      "Keyword FPM is found in 1 documents\n",
      "Keyword TRAINING DATA is found in 1 documents\n",
      "Keyword PATTERN ANALYSIS is found in 1 documents\n",
      "Keyword ARMP is found in 1 documents\n",
      "Keyword HYDROLOGICAL is found in 1 documents\n",
      "Keyword FORECASTING, END‐USE is found in 1 documents\n",
      "Keyword ELECTRICITY, TIME‐SERIES is found in 1 documents\n",
      "Keyword MULTIVARIATE is found in 2 documents\n",
      "Keyword SURARMA is found in 1 documents\n",
      "Keyword ECONOMETRIC MODELS is found in 2 documents\n",
      "Keyword DISCRETE LINEAR is found in 1 documents\n",
      "Keyword ECONOMETRIC MODEL is found in 1 documents\n",
      "Keyword CXS is found in 1 documents\n",
      "Keyword UNIVARIATE is found in 2 documents\n",
      "Keyword NEOCLASSICAL ECONOMICS is found in 1 documents\n",
      "Keyword NONLINEAR is found in 1 documents\n",
      "Keyword MICRODYNAMIC MODELS is found in 1 documents\n",
      "Keyword PARSIMONY is found in 1 documents\n",
      "Keyword AUTOREGRESSION is found in 1 documents\n",
      "Keyword MOVING AVERAGE is found in 3 documents\n",
      "Keyword SIMULATION is found in 1 documents\n",
      "Keyword ECONOMIC TIME SERIES is found in 1 documents\n",
      "Keyword STEPWISE AUTOREGRESSION is found in 1 documents\n",
      "Keyword HOLT‐WINTERS is found in 2 documents\n",
      "Keyword BOX‐JENKINS is found in 4 documents\n",
      "Keyword VANDERMONDE MATRIX is found in 1 documents\n",
      "Keyword TERMED EXPONOMIAL is found in 1 documents\n",
      "Keyword EXPONENTIAL POLYNOMIAL is found in 1 documents\n",
      "Keyword FINANCIAL is found in 2 documents\n",
      "Keyword FORECASTING FINANCIAL is found in 1 documents\n",
      "Keyword SUPPLY is found in 1 documents\n",
      "Keyword COSTS is found in 1 documents\n",
      "Keyword CASH FLOWS is found in 1 documents\n",
      "Keyword ANALYSIS is found in 1 documents\n",
      "Keyword INTERVENTION is found in 1 documents\n",
      "Keyword TREND is found in 1 documents\n",
      "Keyword MULTICOLLINEARITY is found in 1 documents\n",
      "Keyword SATURATION LEVEL is found in 1 documents\n",
      "Keyword PARALLELISM is found in 1 documents\n",
      "Keyword PARAMETRIC MODELING is found in 1 documents\n",
      "Keyword AUTOREGRESSIVE PROCESSES is found in 1 documents\n",
      "Keyword EFFICIENCY is found in 1 documents\n",
      "Keyword SAMPLING INTERVAL is found in 1 documents\n",
      "Keyword FRACTIONAL DIFFERENCING is found in 1 documents\n",
      "Keyword FRACTIONAL ARMA is found in 1 documents\n",
      "Keyword FRACTIONAL GAUSSIAN NOISE is found in 1 documents\n",
      "Keyword CLIMATE is found in 1 documents\n",
      "Keyword 11-YEAR is found in 1 documents\n",
      "Keyword PERIODIC 18.6-YEAR is found in 1 documents\n",
      "Keyword INDUCED DROUGHT is found in 1 documents\n",
      "Keyword FLOOD is found in 1 documents\n",
      "Keyword UNITED-STATES is found in 1 documents\n",
      "Keyword EMPIRICAL APPROACH is found in 1 documents\n",
      "Keyword PREDICTION is found in 1 documents\n",
      "Keyword CHEBYSHEV INEQUALITY is found in 1 documents\n",
      "Keyword COMPUTER PROGRAM MICROCOMPUTERS is found in 1 documents\n",
      "Keyword BROWN'S DOUBLE EXPONENTIAL is found in 1 documents\n",
      "Keyword SMOOTHING is found in 1 documents\n",
      "Keyword SINGLE EXPONENTIAL SMOOTHING is found in 1 documents\n",
      "Keyword ADAPTIVE-RESPONSE-RATE SINGLE EXPONENTIAL SMOOTHING is found in 1 documents\n",
      "Keyword WHARTON MODEL is found in 1 documents\n",
      "Keyword COMPARATIVE ACCURACY is found in 1 documents\n",
      "Keyword FORECASTING HORIZON is found in 1 documents\n",
      "Keyword PARAMETRIC STABILITY is found in 1 documents\n",
      "Keyword CAUSAL is found in 1 documents\n",
      "Keyword MODEL PREDICTOR is found in 1 documents\n",
      "Keyword ENVIRONMENTAL ECONOMIC is found in 1 documents\n",
      "Keyword EVALUATION PERIOD is found in 1 documents\n",
      "Keyword IMPORTANT INDICATOR is found in 1 documents\n",
      "Keyword VECTOR ARMA MODELS is found in 1 documents\n",
      "Keyword TRANSFER FUNCTION MODELS is found in 1 documents\n",
      "Keyword INDEX OF FERTILITY is found in 1 documents\n",
      "Keyword INDEX OF NUPTIALITY is found in 1 documents\n",
      "Keyword CONSUM is found in 1 documents\n",
      "Keyword INTEREST RATE is found in 1 documents\n",
      "Keyword ADAPTIVE FILTER is found in 1 documents\n",
      "Keyword MULTIVARIATE ARIMA MODELS is found in 1 documents\n",
      "Keyword FILTERS is found in 1 documents\n",
      "Keyword LOGISTIC CURVE is found in 2 documents\n",
      "Keyword CIRCULATION is found in 1 documents\n",
      "Keyword PRESSURE PATTERNS is found in 1 documents\n",
      "Keyword SAMPLE PROPERTIES is found in 1 documents\n",
      "Keyword STOCK-PRICES is found in 1 documents\n",
      "Keyword STOCHASTIC CONSUMPTION is found in 1 documents\n",
      "Keyword VARIANCE BOUNDS TESTS is found in 1 documents\n",
      "Keyword COINTEGRATION is found in 1 documents\n",
      "Keyword INTERTEMPORAL SUBSTITUTION is found in 1 documents\n",
      "Keyword RETURNS is found in 1 documents\n",
      "Keyword TIME-SERIES REGRESSION is found in 1 documents\n",
      "Keyword MARKET is found in 2 documents\n",
      "Keyword VOLATILITY is found in 1 documents\n",
      "Keyword VECTOR AUTOREGRESSION is found in 1 documents\n",
      "Keyword MOVING AVERAGE MODEL is found in 1 documents\n",
      "Keyword MULTIVARIATE AUTOREGRESSIVE is found in 1 documents\n",
      "Keyword FORECASTING MULTIVARIATE is found in 1 documents\n",
      "Keyword PATIENT CENSUS is found in 1 documents\n",
      "Keyword IARMA is found in 1 documents\n",
      "Keyword ARARMA is found in 1 documents\n",
      "Keyword VARIMA is found in 1 documents\n",
      "Keyword M-COMPETITION is found in 1 documents\n",
      "Keyword STRUCTURAL MODELS is found in 1 documents\n",
      "Keyword FORSYS is found in 1 documents\n",
      "Keyword M2-COMPETITION is found in 1 documents\n",
      "Keyword HOLT-WINTERS is found in 3 documents\n",
      "Keyword ECONOMETRICA MODEL is found in 1 documents\n",
      "Keyword FORECASTING COMPETITIONS is found in 1 documents\n",
      "Keyword COMPUTER SOFTWARE is found in 1 documents\n",
      "Keyword SHIFT-SHARE is found in 1 documents\n",
      "Keyword ECONOMY is found in 1 documents\n",
      "Keyword FISHERY, BOX-JENKINS is found in 1 documents\n",
      "Keyword TIME SERIES MODEL BUILDING is found in 1 documents\n",
      "Keyword MULTIPLE TIME SERIES is found in 1 documents\n",
      "Keyword MONTE CARLO is found in 1 documents\n",
      "Keyword MULTIVARIATE, ECONOMIC is found in 1 documents\n",
      "Keyword POPULATION is found in 2 documents\n",
      "Keyword TIME-SERIES ANALYSIS is found in 1 documents\n",
      "Keyword INTERNATIONAL TRADE is found in 1 documents\n",
      "Keyword INFLATION is found in 1 documents\n",
      "Keyword EXPECTATIONS SERIES is found in 1 documents\n",
      "Keyword SIGNALS is found in 1 documents\n",
      "Keyword FPE is found in 1 documents\n",
      "Keyword AUTOREGRESSIVE is found in 2 documents\n",
      "Keyword YULE-WALKER'S is found in 1 documents\n",
      "Keyword DISCONTINUOUS PROCESSES is found in 1 documents\n",
      "Keyword INTERVENTIONS is found in 2 documents\n",
      "Keyword STATISTICAL FORECASTS is found in 5 documents\n",
      "Keyword FORECASTING MODELS is found in 7 documents\n",
      "Keyword TIME SERIES FORECASTING is found in 8 documents\n",
      "Keyword ANALYTICAL ESTIMATING is found in 1 documents\n",
      "Keyword TIME SERIES MODELS is found in 7 documents\n",
      "Keyword ESTIMATION METHODS is found in 1 documents\n",
      "Keyword DETERMINISTIC FUNCTION is found in 1 documents\n",
      "Keyword KOLMOGOROV WIENER PREDICTOR is found in 1 documents\n",
      "Keyword SPECTRAL DENSITY FUNCTION is found in 1 documents\n",
      "Keyword STOCHASTIC PROCESS is found in 1 documents\n",
      "Keyword AUTOREGRESSIVE MOVING AVERAGE is found in 1 documents\n",
      "Keyword ECONOMIC MODELS is found in 1 documents\n",
      "Keyword GROWTH RATES is found in 1 documents\n",
      "Keyword MODIFIED EXPONENTIAL is found in 1 documents\n",
      "Keyword LINEAR is found in 1 documents\n",
      "Keyword EXPONENTIAL is found in 1 documents\n",
      "Keyword LINEAR REGRESSION is found in 1 documents\n",
      "Keyword LOGISTIC is found in 1 documents\n",
      "Keyword SOCIOECONOMIC is found in 1 documents\n",
      "Keyword INDEX SETS is found in 1 documents\n",
      "Keyword MATHEMATICAL VECTORS is found in 1 documents\n",
      "Keyword STATIONARY PROCESSES is found in 1 documents\n",
      "Keyword FARMS is found in 1 documents\n",
      "Keyword LAW OF LARGE NUMBERS is found in 1 documents\n",
      "Keyword MARKOV CHAINS is found in 1 documents\n",
      "Keyword MATRICES is found in 1 documents\n",
      "Keyword WEATHER FORECASTING is found in 1 documents\n",
      "Keyword INTEREST RATES is found in 1 documents\n",
      "Keyword STATISTICAL FORECASTS INFLATION RATES, AUTOCORRELATION, UNITED STATES TREASURY BILLS is found in 1 documents\n",
      "Keyword FINANCIAL ADVISERS is found in 1 documents\n",
      "Keyword EARNINGS FORECASTING is found in 1 documents\n",
      "Keyword PROBABILITY FORECASTS is found in 1 documents\n",
      "Keyword OUTLIERS is found in 2 documents\n",
      "Keyword NULL HYPOTHESIS is found in 1 documents\n",
      "Keyword COMPARISON is found in 1 documents\n",
      "Keyword EMPIRICAL STUDY is found in 1 documents\n",
      "Keyword EVALUATION is found in 1 documents\n",
      "Keyword ACCURACY is found in 1 documents\n",
      "Keyword CLIMATIC is found in 1 documents\n",
      "Keyword CYCLES is found in 1 documents\n",
      "Keyword FORECASTS, TIME‐SERIES is found in 1 documents\n",
      "Keyword BOX-JENKINS-ECONOMETRIC is found in 1 documents\n",
      "Keyword ACTUAL VOLUME is found in 1 documents\n",
      "Keyword POLICY CHANGE is found in 1 documents\n",
      "Keyword TRAFFIC VOLUME is found in 1 documents\n",
      "Keyword SEASONAL ADJUSTMENT is found in 1 documents\n",
      "Keyword STATISTICAL VARIANCE is found in 1 documents\n",
      "Keyword RAW DATA is found in 1 documents\n",
      "Keyword ECONOMIC FORECASTING MODELS is found in 1 documents\n",
      "Keyword GROWTH is found in 1 documents\n",
      "Keyword MARKETS is found in 1 documents\n",
      "Keyword CREDIT is found in 1 documents\n",
      "Keyword RELATIONSHIPS is found in 1 documents\n",
      "Keyword PATIENT is found in 1 documents\n",
      "Keyword DISCHARGES is found in 1 documents\n",
      "Keyword HOSPITAL is found in 1 documents\n",
      "Keyword UNIDIRECTIONAL CAUSALITY is found in 1 documents\n",
      "Keyword ADMISSIONS is found in 1 documents\n",
      "Keyword CONTEMPORANEOUS is found in 1 documents\n",
      "Keyword MOVEMENTS is found in 1 documents\n",
      "Keyword FEEDBACK is found in 1 documents\n",
      "Keyword  is found in 1 documents\n",
      "Keyword IARIMA is found in 1 documents\n",
      "Keyword RMA is found in 1 documents\n",
      "Keyword ECOLOGY is found in 1 documents\n",
      "Keyword PROBABILITY is found in 1 documents\n",
      "Keyword DROSOPHILA is found in 1 documents\n",
      "Keyword ANIMAL is found in 1 documents\n",
      "Keyword TIME is found in 1 documents\n",
      "Keyword ARTICLE is found in 1 documents\n",
      "Keyword PRICE is found in 1 documents\n",
      "Keyword VOLATILE is found in 1 documents\n",
      "Keyword KALMAN is found in 1 documents\n",
      "Keyword STOCK is found in 1 documents\n",
      "Keyword BIOLOGY is found in 1 documents\n",
      "Keyword AIRLINE INDUSTRY is found in 1 documents\n",
      "Keyword REGRESSION ANALYSIS is found in 2 documents\n",
      "Keyword MATHEMATICAL ANALYSIS is found in 1 documents\n",
      "Keyword FORECASTING TECHNIQUES is found in 1 documents\n",
      "Keyword TRAFFIC is found in 2 documents\n",
      "Keyword MODEL is found in 1 documents\n",
      "Keyword GREAT-LAKES is found in 1 documents\n",
      "Keyword JUDGEMENT is found in 1 documents\n",
      "Keyword CONFIDENCE INTERVALS is found in 1 documents\n",
      "Keyword CALIBRATION is found in 1 documents\n",
      "Keyword DETERMINISTIC is found in 2 documents\n",
      "Keyword MARKETING STRATEGY is found in 1 documents\n",
      "Keyword STATISTICAL DISCREPANCIES is found in 1 documents\n",
      "Keyword EMPIRICAL EVIDENCE is found in 1 documents\n",
      "Keyword WHITE NOISE is found in 1 documents\n",
      "Keyword SMOOTHING METHODS is found in 1 documents\n",
      "Keyword FORECASTING PERFORMANCE is found in 1 documents\n",
      "Keyword NON‐SEASONAL TIME SERIES is found in 1 documents\n",
      "Keyword MISSING OBSERVATIONS is found in 1 documents\n",
      "Keyword LOGISTIC FUNCTION is found in 1 documents\n",
      "Keyword LEAST-SQUARES is found in 1 documents\n",
      "Keyword ANALYZING STATIONARY is found in 1 documents\n",
      "Keyword TRANSFORMATION is found in 1 documents\n",
      "Keyword FISHERIES is found in 1 documents\n",
      "Keyword HALIBUT BIOMASS is found in 1 documents\n",
      "Keyword LINEAR SYSTEMS is found in 1 documents\n",
      "Keyword UNIVARIATE MODELLING is found in 1 documents\n",
      "Keyword IDENTIFICATION is found in 1 documents\n",
      "Keyword CARBONE‐LONGINI AEP FILTERING is found in 1 documents\n",
      "Keyword SMOOTHING TECHNIQUES is found in 1 documents\n",
      "Keyword CORRELATED ERRORS is found in 1 documents\n",
      "Keyword MULTIPLE TIME‐SERIES ANALYSIS is found in 1 documents\n",
      "Keyword ACCOUNTING DATA is found in 1 documents\n",
      "Keyword SECURITY is found in 2 documents\n",
      "Keyword FINANCE is found in 1 documents\n",
      "Keyword NONLINEAR LEAST-SQUARES is found in 1 documents\n",
      "Keyword CALENDAR VARIATION is found in 1 documents\n",
      "Keyword TRADING DAY VARIATION is found in 1 documents\n",
      "Keyword GEOPOTENTIAL ANOMALIES is found in 1 documents\n",
      "Keyword EOFS is found in 1 documents\n",
      "Keyword ANTARCTICA is found in 1 documents\n",
      "Keyword ECMWF is found in 1 documents\n",
      "Keyword MAXIMUM LIKELIHOOD is found in 1 documents\n",
      "Keyword AUTOREGRESSIVE PROCESS is found in 1 documents\n",
      "Keyword RANDOM PARAMETERS is found in 1 documents\n",
      "Keyword DOUBLY STOCHASTIC is found in 1 documents\n",
      "Keyword TREND CURVES is found in 1 documents\n",
      "Keyword GENERAL MODIFIED EXPONENTIALS is found in 1 documents\n",
      "Keyword INFORMATION is found in 1 documents\n",
      "Keyword SECURITY ANALYST is found in 1 documents\n",
      "Keyword WHITE NOISE PROCESS is found in 1 documents\n",
      "Keyword ARMA MODEL is found in 1 documents\n",
      "Keyword FORECAST ERROR is found in 1 documents\n",
      "Keyword TRANSFER FUNCTION MODEL is found in 1 documents\n",
      "Keyword TOTAL BIRTH is found in 1 documents\n",
      "Keyword STOCHASTIC PROCESSES is found in 1 documents\n",
      "Keyword SAMPLE SIZE is found in 1 documents\n",
      "Keyword FREQUENCY-DOMAIN is found in 1 documents\n",
      "Keyword MULTIPLE AUTOREGRESSIVE is found in 1 documents\n",
      "Keyword STATIONARY MULTIPLE is found in 1 documents\n",
      "Keyword WIND POWER is found in 1 documents\n",
      "Keyword WIND SPEED is found in 1 documents\n",
      "Keyword NON-GAUSSIAN DISTRIBUTION is found in 1 documents\n",
      "Keyword HOME-HEATING is found in 1 documents\n",
      "Keyword MARKOV PROCESS is found in 1 documents\n",
      "Keyword ELECTRIC is found in 1 documents\n",
      "Keyword LOAD DURATION CURVE is found in 1 documents\n",
      "Keyword FIRM FINANCE PROFITS is found in 1 documents\n",
      "Keyword ARIMA TRANSFORMATIONS is found in 1 documents\n",
      "Keyword PRICES is found in 1 documents\n",
      "Keyword FOODSTUFFS is found in 1 documents\n",
      "Keyword TRANSFER  FUNCTION is found in 1 documents\n",
      "Keyword STATE‐SPACE MODELS is found in 1 documents\n",
      "Keyword REGRESSION MODELS is found in 1 documents\n",
      "Keyword PUBLIC POLICY is found in 1 documents\n",
      "Keyword NON-LINEAR REGRESSION MODEL is found in 1 documents\n",
      "Keyword LOAD is found in 1 documents\n",
      "Keyword PREDICTIVE MODELS is found in 1 documents\n",
      "Keyword POWER is found in 2 documents\n",
      "Keyword LOAD FORECASTING is found in 1 documents\n",
      "Keyword SCHEDULING is found in 1 documents\n",
      "Keyword FINANCIAL ANALYSTS is found in 1 documents\n",
      "Keyword CONSENSUS, EARNINGS is found in 1 documents\n",
      "Keyword NONSTATIONARITY,  SIMPLIFY INGOPERATORS is found in 1 documents\n",
      "Keyword AUTOCORRÉLATION is found in 1 documents\n",
      "Keyword WICHERN  BEHAVIOUR is found in 1 documents\n",
      "Keyword DATASETS is found in 1 documents\n",
      "Keyword STATISTICAL FORECASTS, DATA MODELS is found in 1 documents\n",
      "Keyword ARMA, AUTOREGRESSIVE MOVING AVERAGE is found in 1 documents\n",
      "Keyword EMPLOYMENT FORECASTING is found in 1 documents\n",
      "Keyword GRAPHICAL TECHNIQUES is found in 1 documents\n",
      "Keyword STABILITY TEST is found in 1 documents\n",
      "Keyword ARMA, SURARMA is found in 1 documents\n",
      "Keyword MULTIPLE TIME SERIES MODELS is found in 1 documents\n",
      "Keyword DIFFERENCING is found in 1 documents\n",
      "Keyword NONLINEAR MODELS is found in 1 documents\n",
      "Keyword STRUCTURAL CHANGE is found in 1 documents\n",
      "Keyword MULTIPLE SERIES is found in 1 documents\n",
      "Keyword BAYESIAN FORECASTING is found in 1 documents\n",
      "Keyword FORECAST HORIZON is found in 1 documents\n",
      "Keyword COMBINATIONS is found in 1 documents\n",
      "Keyword REVIEWS is found in 1 documents\n",
      "Keyword FORECASTING RESEARCH is found in 1 documents\n",
      "Keyword MODELING ABILITY is found in 1 documents\n",
      "Keyword ECONOMETRIE-MODEL is found in 1 documents\n",
      "Keyword DIAGNOSTIC-CHECKING is found in 1 documents\n",
      "Keyword INTERVENTION-ANALYSIS is found in 1 documents\n",
      "Keyword SPECTRAL is found in 1 documents\n",
      "Keyword FREQUENCY is found in 1 documents\n",
      "Keyword SO is found in 1 documents\n",
      "Keyword SOTHERN OSCILLATION is found in 1 documents\n",
      "Keyword QUASI-PERIODIC is found in 1 documents\n",
      "Keyword INFLUENZA is found in 1 documents\n",
      "Keyword MORTALITY is found in 1 documents\n",
      "Keyword ECONOMETRIC is found in 1 documents\n",
      "Keyword DIAGNOSTICS is found in 1 documents\n"
     ]
    }
   ],
   "source": [
    "featureset = corpus_1940.features['authorKeywords']\n",
    "for k, count in featureset.documentCounts.items():\n",
    "    print 'Keyword %s is found in %i documents' % (featureset.index[k], count)"
   ]
  },
  {
   "cell_type": "code",
   "execution_count": 23,
   "metadata": {},
   "outputs": [
    {
     "name": "stdout",
     "output_type": "stream",
     "text": [
      "[(u'TIME SERIES', 27.0), (u'FORECASTING', 19.0), (u'ARIMA', 15.0), (u'BOX-JENKINS', 11.0), (u'ARMA', 9.0), (u'ECONOMIC', 8.0), (u'TIME SERIES FORECASTING', 8.0), (u'ARIMA MODELS', 7.0), (u'FORECASTING MODELS', 7.0), (u'TIME SERIES MODELS', 7.0), (u'EXPONENTIAL SMOOTHING', 5.0), (u'DEMAND', 5.0), (u'STATISTICAL FORECASTS', 5.0), (u'WEATHER', 4.0), (u'AUTOCORRELATION', 4.0), (u'SALES', 4.0), (u'EXOGENOUS VARIABLES', 4.0), (u'TIME SERIES ANALYSIS', 4.0), (u'STOCHASTIC', 4.0), (u'BAYESIAN', 4.0), (u'BOX\\u2010JENKINS', 4.0), (u'REGRESSION', 3.0), (u'KALMAN FILTER', 3.0), (u'TIME SERIES MODEL', 3.0), (u'MOVING AVERAGE', 3.0), (u'HOLT-WINTERS', 3.0), (u'ENERGY', 2.0), (u'LINEAR COMBINATION', 2.0), (u'AGGREGATION', 2.0), (u'TIME-SERIES', 2.0), (u'STATISTICS', 2.0), (u'TRANSFER FUNCTION', 2.0), (u'FORECASTING ACCURACY', 2.0), (u'MULTIVARIATE', 2.0), (u'ECONOMETRIC MODELS', 2.0), (u'UNIVARIATE', 2.0), (u'HOLT\\u2010WINTERS', 2.0), (u'FINANCIAL', 2.0), (u'LOGISTIC CURVE', 2.0), (u'MARKET', 2.0), (u'POPULATION', 2.0), (u'AUTOREGRESSIVE', 2.0), (u'INTERVENTIONS', 2.0), (u'OUTLIERS', 2.0), (u'REGRESSION ANALYSIS', 2.0), (u'TRAFFIC', 2.0), (u'DETERMINISTIC', 2.0), (u'SECURITY', 2.0), (u'POWER', 2.0), (u'LOAD-DURATION', 1.0), (u'ORDER DETERMINATION', 1.0), (u'ARARMA MODEL', 1.0), (u'PREDICTION VARIANCE HORIZON', 1.0), (u'CAT', 1.0), (u'ARIMA MODEL', 1.0), (u'TOURISM', 1.0), (u'BOX-JENKINS MODELS', 1.0), (u'ECONOMETRIC FORECASTING', 1.0), (u'COMBINATION FORECASTING', 1.0), (u'LABOR PRODUCTIVITY', 1.0), (u'AGGREGATE SERIES', 1.0), (u'MULTIPLE FORECASTING MODEL', 1.0), (u'HILBERT SPACE', 1.0), (u'SMOG EFFECT', 1.0), (u'POLLUTANT CONCENTRATIONS', 1.0), (u'LRE', 1.0), (u'LINEAR RECURSIVE ESTIMATOR', 1.0), (u'MAKRIDAKIS-WHEELWRIGHT', 1.0), (u\"WIDROW'S LEAST MEAN SQUARE\", 1.0), (u'FORECAST EFFICIENCY', 1.0), (u'MODELLING', 1.0), (u'SYTEMATIC SAMPLING', 1.0), (u'WINTER', 1.0), (u'PETTERN', 1.0), (u'TEMPERATURE', 1.0), (u'OPTIMIZATION', 1.0), (u'SMOOTH', 1.0), (u'HOUSING STARTS', 1.0), (u'DYNAMIC LINEAR MODEL', 1.0), (u'ENDOGENOUS VARIABLES', 1.0), (u'ROBUST REGRESSION', 1.0), (u'TELECOMMUNICATIONS DEMAND', 1.0), (u'AUTOCORRELATED TIME SERIES', 1.0), (u\"BROWN'S ADAPTIVE SMOOTHING\", 1.0), (u'MUNICIPAL', 1.0), (u'WATER USE', 1.0), (u'VARIANCES', 1.0), (u'POOLED CROSS\\u2010SECTIONAL', 1.0), (u'SHORT HISTORY FORECASTING', 1.0), (u'CHANGE\\u2010POINT MODELS', 1.0), (u'PREDICTIVE MEANS', 1.0), (u'DISTRIBUTED LAG', 1.0), (u'COMPOSITE FORECASTS', 1.0), (u'REGRESSION, DYNAMIC REGRESSION', 1.0), (u'BENCHMARKING', 1.0), (u'MODEL FORECAST', 1.0), (u'AMERICAN STATISTICAL ASSOCIATION', 1.0), (u'MORTALITY PROBABILITY', 1.0), (u'MEAN ABSOLUTE PERCENT ERROR', 1.0), (u'COST', 1.0), (u'SALES FORECASTING', 1.0), (u'JUDGEMENTAL FORECASTING', 1.0), (u'BOX-JENKINS ANALYSIS', 1.0), (u'INWARD', 1.0), (u'USE', 1.0), (u'BOX AND JENKINS', 1.0), (u'OUTWARD', 1.0), (u'SEASONAL MODELS', 1.0), (u'POWER TRANSFORMATION', 1.0), (u'INFORMATION CRITERION', 1.0), (u'FORECASTING SYSTEM', 1.0), (u'\\xa3M3', 1.0), (u'FPM', 1.0), (u'TRAINING DATA', 1.0), (u'PATTERN ANALYSIS', 1.0), (u'ARMP', 1.0), (u'HYDROLOGICAL', 1.0), (u'FORECASTING, END\\u2010USE', 1.0), (u'ELECTRICITY, TIME\\u2010SERIES', 1.0), (u'SURARMA', 1.0), (u'DISCRETE LINEAR', 1.0), (u'ECONOMETRIC MODEL', 1.0), (u'CXS', 1.0), (u'NEOCLASSICAL ECONOMICS', 1.0), (u'NONLINEAR', 1.0), (u'MICRODYNAMIC MODELS', 1.0), (u'PARSIMONY', 1.0), (u'AUTOREGRESSION', 1.0), (u'SIMULATION', 1.0), (u'ECONOMIC TIME SERIES', 1.0), (u'STEPWISE AUTOREGRESSION', 1.0), (u'VANDERMONDE MATRIX', 1.0), (u'TERMED EXPONOMIAL', 1.0), (u'EXPONENTIAL POLYNOMIAL', 1.0), (u'FORECASTING FINANCIAL', 1.0), (u'SUPPLY', 1.0), (u'COSTS', 1.0), (u'CASH FLOWS', 1.0), (u'ANALYSIS', 1.0), (u'INTERVENTION', 1.0), (u'TREND', 1.0), (u'MULTICOLLINEARITY', 1.0), (u'SATURATION LEVEL', 1.0), (u'PARALLELISM', 1.0), (u'PARAMETRIC MODELING', 1.0), (u'AUTOREGRESSIVE PROCESSES', 1.0), (u'EFFICIENCY', 1.0), (u'SAMPLING INTERVAL', 1.0), (u'FRACTIONAL DIFFERENCING', 1.0), (u'FRACTIONAL ARMA', 1.0), (u'FRACTIONAL GAUSSIAN NOISE', 1.0), (u'CLIMATE', 1.0), (u'11-YEAR', 1.0), (u'PERIODIC 18.6-YEAR', 1.0), (u'INDUCED DROUGHT', 1.0), (u'FLOOD', 1.0), (u'UNITED-STATES', 1.0), (u'EMPIRICAL APPROACH', 1.0), (u'PREDICTION', 1.0), (u'CHEBYSHEV INEQUALITY', 1.0), (u'COMPUTER PROGRAM MICROCOMPUTERS', 1.0), (u\"BROWN'S DOUBLE EXPONENTIAL\", 1.0), (u'SMOOTHING', 1.0), (u'SINGLE EXPONENTIAL SMOOTHING', 1.0), (u'ADAPTIVE-RESPONSE-RATE SINGLE EXPONENTIAL SMOOTHING', 1.0), (u'WHARTON MODEL', 1.0), (u'COMPARATIVE ACCURACY', 1.0), (u'FORECASTING HORIZON', 1.0), (u'PARAMETRIC STABILITY', 1.0), (u'CAUSAL', 1.0), (u'MODEL PREDICTOR', 1.0), (u'ENVIRONMENTAL ECONOMIC', 1.0), (u'EVALUATION PERIOD', 1.0), (u'IMPORTANT INDICATOR', 1.0), (u'VECTOR ARMA MODELS', 1.0), (u'TRANSFER FUNCTION MODELS', 1.0), (u'INDEX OF FERTILITY', 1.0), (u'INDEX OF NUPTIALITY', 1.0), (u'CONSUM', 1.0), (u'INTEREST RATE', 1.0), (u'ADAPTIVE FILTER', 1.0), (u'MULTIVARIATE ARIMA MODELS', 1.0), (u'FILTERS', 1.0), (u'CIRCULATION', 1.0), (u'PRESSURE PATTERNS', 1.0), (u'SAMPLE PROPERTIES', 1.0), (u'STOCK-PRICES', 1.0), (u'STOCHASTIC CONSUMPTION', 1.0), (u'VARIANCE BOUNDS TESTS', 1.0), (u'COINTEGRATION', 1.0), (u'INTERTEMPORAL SUBSTITUTION', 1.0), (u'RETURNS', 1.0), (u'TIME-SERIES REGRESSION', 1.0), (u'VOLATILITY', 1.0), (u'VECTOR AUTOREGRESSION', 1.0), (u'MOVING AVERAGE MODEL', 1.0), (u'MULTIVARIATE AUTOREGRESSIVE', 1.0), (u'FORECASTING MULTIVARIATE', 1.0), (u'PATIENT CENSUS', 1.0), (u'IARMA', 1.0)]\n"
     ]
    }
   ],
   "source": [
    "store = list()\n",
    "featureset = corpus_1940.features['authorKeywords']\n",
    "for k, count in featureset.documentCounts.items():\n",
    "    store.append((featureset.index[k], count))\n",
    "\n",
    "Keywords_1940 = sorted(store, key=lambda x: x[1], reverse=True)\n",
    "\n",
    "print(Keywords_1940[:200])"
   ]
  },
  {
   "cell_type": "code",
   "execution_count": 22,
   "metadata": {},
   "outputs": [],
   "source": [
    "#Function for search element inside the tuple and show in reverse order\n",
    "def search_tuple(data, element):\n",
    "    index = next((i for i,v in enumerate(data) if v[0] == element),-1)\n",
    "    return(index)"
   ]
  },
  {
   "cell_type": "code",
   "execution_count": 26,
   "metadata": {},
   "outputs": [],
   "source": [
    "#Searching keywords for methods applied\n",
    "winter = search_tuple(Keywords_1940, 'HOLT-WINTERS')\n",
    "winter2 = search_tuple(Keywords_1940, 'HOLT\\u2010WINTERS')\n",
    "\n",
    "box1 = search_tuple(Keywords_1940, 'BOX-JENKINS')\n",
    "box2 = search_tuple(Keywords_1940, 'BOX\\u2010JENKINS')\n",
    "box3 = search_tuple(Keywords_1940, 'BOX-JENKINS MODELS')\n",
    "box4 = search_tuple(Keywords_1940, 'BOX-JENKINS ANALYSIS')\n",
    "\n",
    "arma1 = search_tuple(Keywords_1940, 'ARMA')\n",
    "arma2 = search_tuple(Keywords_1940, 'IARMA')\n",
    "arma3 = search_tuple(Keywords_1940, 'ARARMA MODEL')\n",
    "\n",
    "arima1 = search_tuple(Keywords_1940, 'ARIMA MODELS')\n",
    "arima2 = search_tuple(Keywords_1940, 'ARIMA')\n",
    "arima3 = search_tuple(Keywords_1940, 'ARIMA MODEL')\n",
    "arima4 = search_tuple(Keywords_1940, 'MULTIVARIATE ARIMA MODELS')\n",
    "\n",
    "smooth = search_tuple(Keywords_1940, 'EXPONENTIAL SMOOTHING')\n",
    "\n",
    "stochast = search_tuple(Keywords_1940, 'STOCHASTIC')\n",
    "\n",
    "bayes = search_tuple(Keywords_1940, 'BAYESIAN')\n",
    "\n",
    "regress1 = search_tuple(Keywords_1940, 'REGRESSION')\n",
    "regress2 = search_tuple(Keywords_1940, 'REGRESSION ANALYSIS')\n",
    "regress3 = search_tuple(Keywords_1940, 'ROBUST REGRESSION')\n",
    "regress4 = search_tuple(Keywords_1940, 'REGRESSION, DYNAMIC REGRESSION')\n",
    "regress5 = search_tuple(Keywords_1940, 'TIME-SERIES REGRESSION')\n",
    "\n",
    "kalman = search_tuple(Keywords_1940, 'KALMAN FILTER')"
   ]
  },
  {
   "cell_type": "code",
   "execution_count": 31,
   "metadata": {},
   "outputs": [],
   "source": [
    "#Unification list for different forecasting methods\n",
    "\n",
    "#HOLT-WINTERS\n",
    "winter_id = Keywords_1940[winter][0]\n",
    "winter_ref = Keywords_1940[winter][1] + Keywords_1940[winter2][1]\n",
    "winter_ind = (winter_id, winter_ref)\n",
    "\n",
    "#BOX-JENKINS\n",
    "box_id = Keywords_1940[box1][0]\n",
    "box_ref = Keywords_1940[box1][1] + Keywords_1940[box2][1] + Keywords_1940[box3][1] + Keywords_1940[box4][1]\n",
    "box_ind = (box_id, box_ref)\n",
    "\n",
    "#ARMA\n",
    "arma_id = Keywords_1940[arma1][0]\n",
    "arma_ref = Keywords_1940[arma1][1] + Keywords_1940[arma2][1] + Keywords_1940[arma3][1]\n",
    "arma_ind = (arma_id, arma_ref)\n",
    "\n",
    "#ARIMA\n",
    "arima_id = Keywords_1940[arima2][0]\n",
    "arima_ref = Keywords_1940[arima1][1] + Keywords_1940[arima2][1] + Keywords_1940[arima3][1] + Keywords_1940[arima4][1]\n",
    "arima_ind = (arima_id, arima_ref)\n",
    "\n",
    "#REGRESSION\n",
    "regress_id = Keywords_1940[regress1][0]\n",
    "regress_ref = Keywords_1940[regress1][1] + Keywords_1940[regress2][1] + Keywords_1940[regress3][1] + Keywords_1940[regress4][1]\n",
    "regress_ind = (regress_id, regress_ref)"
   ]
  },
  {
   "cell_type": "code",
   "execution_count": 35,
   "metadata": {},
   "outputs": [
    {
     "data": {
      "image/png": "[encoded data removed]",
      "text/plain": [
       "<Figure size 1152x432 with 1 Axes>"
      ]
     },
     "metadata": {
      "needs_background": "light"
     },
     "output_type": "display_data"
    }
   ],
   "source": [
    "#Bar graph for methods\n",
    "\n",
    "methods = [Keywords_1940[stochast], Keywords_1940[bayes],\n",
    "           winter_ind, box_ind, arma_ind, arima_ind, regress_ind]\n",
    "\n",
    "# sort in-place from highest to lowest\n",
    "methods.sort(key=lambda x: x[1], reverse=False) \n",
    "\n",
    "# save the names and their respective scores separately\n",
    "# reverse the tuples to go from most frequent to least frequent \n",
    "topic = zip(*methods)[0]\n",
    "score = zip(*methods)[1]\n",
    "#print(people)\n",
    "x_pos = np.arange(len(topic)) \n",
    "\n",
    "plt.barh(x_pos, score, align='center', color='gray', edgecolor='black')\n",
    "plt.yticks(x_pos, topic)\n",
    "plt.xlabel(r'\\textbf{NUMBER OF DOCUMENTS WHERE THE TOPIC IS MENTIONED}')\n",
    "plt.ylabel(r'\\textbf{TOPIC TRENDS}')\n",
    "plt.title(r'\\textbf{SOME TOPICS THAT HAVE BEEN STUDIED USING TIME SERIES FORECASTING}', fontsize=14, color='k')\n",
    "\n",
    "plt.grid(True)\n",
    "#plt.savefig('figure_2')\n",
    "plt.show()"
   ]
  }
 ],
 "metadata": {
  "kernelspec": {
   "display_name": "Python 2",
   "language": "python",
   "name": "python2"
  },
  "language_info": {
   "codemirror_mode": {
    "name": "ipython",
    "version": 2
   },
   "file_extension": ".py",
   "mimetype": "text/x-python",
   "name": "python",
   "nbconvert_exporter": "python",
   "pygments_lexer": "ipython2",
   "version": "2.7.15"
  }
 },
 "nbformat": 4,
 "nbformat_minor": 2
}
