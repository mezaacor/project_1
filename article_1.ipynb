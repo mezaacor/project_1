{
 "cells": [
  {
   "cell_type": "markdown",
   "metadata": {},
   "source": [
    "# Introduction"
   ]
  },
  {
   "cell_type": "markdown",
   "metadata": {},
   "source": [
    "This notebook is the complement of an article with the same name. In this notebook we are to share the data and methodology used for to reach the goals. The main objective will be to evaluate the evolution of the time series forecasting methods and the different topics to which it was applied over time. The main objective will be to evaluate the evolution of the time series forecasting methods and the different topics to which it was applied over time. In this way, we downloaded the references from Web of Sciences, with the following search criterias: Query: (TS=(time* AND series* AND forecasting)) AND LANGUAGE: (English) AND DOCUMENT TYPES: (Article OR Book Chapter OR Data Paper OR Database Review). The references with the all fields were downloaded in batches of 500 until until completing all the references of the search. For more information about getting bibliography metadata consult the following link: Bibliographyc Metadata.\n",
    "\n",
    "The analysis was developed using Tethne Python package. Tethne is a Python software package for parsing and analyzing bibliographic metadata; This tool was developed by the Laubichler Lab and the Digital Innovation Group at Arizona State University as part of an initiative for digital and computational humanities (d+cH). It is important to take in consideration that Tethne is developed in Python 2.7. Python 3 is a distinct language from Python 2.7, and many packages have not yet made the leap to this new platform. A Python 3-compatible version is in the works.\n",
    "\n",
    "In this project we use Tethne because, it provides tools for easily parsing and analyzing bibliographic data in Python. The primary emphasis is on working with data from the Web of Science database, and also, Tethne provides efficient methods for modeling and analyzing topics changing in time."
   ]
  },
  {
   "cell_type": "code",
   "execution_count": 1,
   "metadata": {},
   "outputs": [
    {
     "name": "stdout",
     "output_type": "stream",
     "text": [
      "Populating the interactive namespace from numpy and matplotlib\n"
     ]
    }
   ],
   "source": [
    "#Libraries\n",
    "%pylab inline\n",
    "from tethne.readers import wos\n",
    "from tethne.readers import merge\n",
    "import matplotlib.pyplot as plt\n",
    "from tethne import networks\n",
    "from tethne.writers.graph import to_graphml\n",
    "from tethne import bibliographic_coupling\n",
    "from tethne.networks import authors\n",
    "from tethne.utilities import _iterable\n",
    "from tethne import GraphCollection\n",
    "from tethne.networks import coauthors\n",
    "import networkx as nx\n",
    "from collections import defaultdict\n",
    "import warnings\n",
    "from tethne import networks\n",
    "from pprint import pprint\n",
    "from tethne import tokenize\n",
    "from tethne.model.corpus import mallet\n",
    "from tethne.networks import topics\n",
    "from tethne.writers import graph\n",
    "from nltk.corpus import stopwords\n",
    "import numpy as np\n",
    "import pandas as pd\n",
    "import seaborn as sns\n",
    "from tethne.analyze.corpus import burstness\n",
    "from tethne.plot import plot_burstness\n",
    "import warnings\n",
    "warnings.filterwarnings(\"ignore\")"
   ]
  }
 ],
 "metadata": {
  "kernelspec": {
   "display_name": "Python 2",
   "language": "python",
   "name": "python2"
  },
  "language_info": {
   "codemirror_mode": {
    "name": "ipython",
    "version": 2
   },
   "file_extension": ".py",
   "mimetype": "text/x-python",
   "name": "python",
   "nbconvert_exporter": "python",
   "pygments_lexer": "ipython2",
   "version": "2.7.15"
  }
 },
 "nbformat": 4,
 "nbformat_minor": 2
}
