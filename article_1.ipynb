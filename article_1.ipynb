{
 "cells": [
  {
   "cell_type": "markdown",
   "metadata": {},
   "source": [
    "# Time Series Forecasting, Methods and Trends"
   ]
  },
  {
   "cell_type": "markdown",
   "metadata": {},
   "source": [
    "**Ronny A. Meza A. and Alberto Fernández H**"
   ]
  },
  {
   "cell_type": "markdown",
   "metadata": {},
   "source": [
    "# Introduction"
   ]
  },
  {
   "cell_type": "markdown",
   "metadata": {},
   "source": [
    "This notebook is the complement of an article with the same name. In this notebook we are to share the data and methodology used for to reach the goals. The main objective will be to evaluate the evolution of the time series forecasting methods and the different topics to which it was applied over time. The main objective will be to evaluate the evolution of the time series forecasting methods and the different topics to which it was applied over time. In this way, we downloaded the references from Web of Sciences, with the following search criterias: Query: (TS=(time* AND series* AND forecasting)) AND LANGUAGE: (English) AND DOCUMENT TYPES: (Article OR Book Chapter OR Data Paper OR Database Review). The references with the all fields were downloaded in batches of 500 until until completing all the references of the search. For more information about getting bibliography metadata consult the following link: Bibliographyc Metadata.\n",
    "\n",
    "The analysis was developed using Tethne Python package. Tethne is a Python software package for parsing and analyzing bibliographic metadata; This tool was developed by the Laubichler Lab and the Digital Innovation Group at Arizona State University as part of an initiative for digital and computational humanities (d+cH). It is important to take in consideration that Tethne is developed in Python 2.7. Python 3 is a distinct language from Python 2.7, and many packages have not yet made the leap to this new platform. A Python 3-compatible version is in the works.\n",
    "\n",
    "In this project we use Tethne because, it provides tools for easily parsing and analyzing bibliographic data in Python. The primary emphasis is on working with data from the Web of Science database, and also, Tethne provides efficient methods for modeling and analyzing topics changing in time."
   ]
  },
  {
   "cell_type": "code",
   "execution_count": 1,
   "metadata": {},
   "outputs": [
    {
     "name": "stdout",
     "output_type": "stream",
     "text": [
      "Populating the interactive namespace from numpy and matplotlib\n"
     ]
    }
   ],
   "source": [
    "#Libraries\n",
    "#%reset\n",
    "%pylab inline\n",
    "from tethne.readers import wos\n",
    "from tethne.readers import merge\n",
    "import matplotlib.pyplot as plt\n",
    "from tethne import networks\n",
    "from tethne.writers.graph import to_graphml\n",
    "from tethne import bibliographic_coupling\n",
    "from tethne.networks import authors\n",
    "from tethne.utilities import _iterable\n",
    "from tethne import GraphCollection\n",
    "from tethne.networks import coauthors\n",
    "import networkx as nx\n",
    "from collections import defaultdict\n",
    "import warnings\n",
    "from tethne import networks\n",
    "from pprint import pprint\n",
    "from tethne import tokenize\n",
    "from tethne.model.corpus import mallet\n",
    "from tethne.networks import topics\n",
    "from tethne.writers import graph\n",
    "from nltk.corpus import stopwords\n",
    "import numpy as np\n",
    "import pandas as pd\n",
    "import seaborn as sns\n",
    "from tethne.analyze.corpus import burstness\n",
    "from tethne.plot import plot_burstness\n",
    "import warnings\n",
    "warnings.filterwarnings(\"ignore\")"
   ]
  },
  {
   "cell_type": "code",
   "execution_count": 2,
   "metadata": {},
   "outputs": [],
   "source": [
    "wos_corpus = wos.read('/home/ronny/Documentos/Artículos Doctorado/jupyter_codes/WOS')"
   ]
  },
  {
   "cell_type": "markdown",
   "metadata": {},
   "source": [
    "## 2. Methodology\n",
    "References from **Web of Sciences** with the following search parameters: *(TS=(time* AND series* AND forecasting)) AND LANGUAGE: (English) AND DOCUMENT TYPES: (Article OR Book Chapter OR Data Paper OR Database Review).* `The time windows is from 1900 to march, 15, 2019`. \n",
    "\n",
    "The Tethne' library called **read** can to load a list of Papers from a directory containing multiple data files; in our case, we have 31 records. Only it is necesary to provide the path to a directory containing several WoS field-tagged data files. The read function knows that your path is a directory and not a data file. "
   ]
  },
  {
   "cell_type": "code",
   "execution_count": 3,
   "metadata": {},
   "outputs": [],
   "source": [
    "wos_corpus = wos.read('/home/ronny/Documentos/Artículos Doctorado/Article_1_py/WOS')"
   ]
  },
  {
   "cell_type": "code",
   "execution_count": 4,
   "metadata": {},
   "outputs": [
    {
     "name": "stdout",
     "output_type": "stream",
     "text": [
      "Loaded 15106 Web of Sciences references\n"
     ]
    }
   ],
   "source": [
    "ref_num = len(wos_corpus)\n",
    "print 'Loaded %i Web of Sciences references' % ref_num"
   ]
  },
  {
   "cell_type": "code",
   "execution_count": 5,
   "metadata": {},
   "outputs": [],
   "source": [
    "#Creating graphics with Latex properties\n",
    "from matplotlib import rc\n",
    "rc('font',**{'family':'sans-serif','sans-serif':['Helvetica']})\n",
    "## for Palatino and other serif fonts use:\n",
    "#rc('font',**{'family':'serif','serif':['Palatino']})\n",
    "rc('text', usetex=True)\n",
    "\n",
    "from __future__ import unicode_literals\n",
    "import matplotlib\n",
    "matplotlib.rcParams['text.usetex'] = True\n",
    "matplotlib.rcParams['text.latex.unicode'] = True"
   ]
  },
  {
   "cell_type": "code",
   "execution_count": 6,
   "metadata": {},
   "outputs": [
    {
     "data": {
      "image/png": "[encoded data removed]",
      "text/plain": [
       "<Figure size 1152x432 with 1 Axes>"
      ]
     },
     "metadata": {
      "needs_background": "light"
     },
     "output_type": "display_data"
    }
   ],
   "source": [
    "#Note that we can look how documents themselves are distributed using the distribution() method.\n",
    "\n",
    "#plt.rcParams[\"figure.figsize\"]= [6.4, 4]\n",
    "plt.rcParams[\"figure.figsize\"]= [16, 6]\n",
    "\n",
    "plt.bar(*wos_corpus.distribution(), color='gray', edgecolor='black')    # <-- The action.\n",
    "\n",
    "plt.xlabel(r'\\textbf{YEAR}', fontsize=12)\n",
    "plt.ylabel(r'\\textbf{NUMBER OF DOCUMENTS}', fontsize=12)\n",
    "plt.title(r'\\textbf{TIME SERIES FORECASTING PUBLICATIONS PER YEAR}', fontsize=14, color='k')\n",
    "plt.grid(True)\n",
    "#plt.savefig('figure_1')\n",
    "plt.show()"
   ]
  },
  {
   "cell_type": "markdown",
   "metadata": {},
   "source": [
    "## 2.1 WoS Abstracts"
   ]
  },
  {
   "cell_type": "markdown",
   "metadata": {},
   "source": [
    "The abstract_to_features method converts all of the available abstracts in our Corpus to a unigram featureset. It takes no arguments. The abstracts will be diced up into their constituent words, punctuation and capitalization is removed, and a featureset called abstractTerms is generated. By default, abstract_to_features will apply the NLTK stoplist and Porter stemmer."
   ]
  },
  {
   "cell_type": "code",
   "execution_count": 7,
   "metadata": {},
   "outputs": [],
   "source": [
    "wos_corpus.index_feature('abstract', tokenize=tokenize, structured=True)"
   ]
  },
  {
   "cell_type": "code",
   "execution_count": 8,
   "metadata": {},
   "outputs": [
    {
     "data": {
      "text/plain": [
       "[u'abstract', 'citations', 'authors']"
      ]
     },
     "execution_count": 8,
     "metadata": {},
     "output_type": "execute_result"
    }
   ],
   "source": [
    "wos_corpus.features.keys()"
   ]
  },
  {
   "cell_type": "code",
   "execution_count": 9,
   "metadata": {},
   "outputs": [
    {
     "name": "stdout",
     "output_type": "stream",
     "text": [
      "There are 49571 features in the abstract featureset.\n"
     ]
    }
   ],
   "source": [
    "print 'There are {0} features in the abstract featureset.'.format(len(wos_corpus.features['abstract'].index))"
   ]
  },
  {
   "cell_type": "code",
   "execution_count": 10,
   "metadata": {},
   "outputs": [
    {
     "name": "stdout",
     "output_type": "stream",
     "text": [
      "Only 14992 of 15106 papers have abstracts\n"
     ]
    }
   ],
   "source": [
    "print 'Only {0} of {1} papers have abstracts'.format(len(wos_corpus.features['abstract'].features), len(wos_corpus.papers))"
   ]
  },
  {
   "cell_type": "code",
   "execution_count": 11,
   "metadata": {},
   "outputs": [
    {
     "name": "stdout",
     "output_type": "stream",
     "text": [
      "This corpus contains the following features: \n",
      "\tabstract\n",
      "\tcitations\n",
      "\tauthors\n"
     ]
    }
   ],
   "source": [
    "print 'This corpus contains the following features: \\n\\t%s' % '\\n\\t'.join(wos_corpus.features.keys())"
   ]
  },
  {
   "cell_type": "markdown",
   "metadata": {},
   "source": [
    "## 3. Analyzing research topics in time series forecasting, each 10 years \n",
    "**Dividing the Population**"
   ]
  },
  {
   "cell_type": "code",
   "execution_count": 12,
   "metadata": {},
   "outputs": [],
   "source": [
    "corpus_1940 = wos_corpus.subcorpus(('date', range(1940, 1990)))\n",
    "corpus_1990 = wos_corpus.subcorpus(('date', range(1991, 2000)))\n",
    "corpus_2000 = wos_corpus.subcorpus(('date', range(2001, 2010)))\n",
    "corpus_2010 = wos_corpus.subcorpus(('date', range(2011, 2020)))"
   ]
  },
  {
   "cell_type": "code",
   "execution_count": 13,
   "metadata": {},
   "outputs": [],
   "source": [
    "#Function for determinant the corpus length\n",
    "def len_corpus(corpus_data):\n",
    "    ref_num1 = len(corpus_data)\n",
    "    print 'The subcorpus has %i references' % ref_num1"
   ]
  },
  {
   "cell_type": "code",
   "execution_count": 14,
   "metadata": {},
   "outputs": [
    {
     "name": "stdout",
     "output_type": "stream",
     "text": [
      "The subcorpus has 140 references\n",
      "The subcorpus has 1406 references\n",
      "The subcorpus has 3615 references\n",
      "The subcorpus has 8994 references\n"
     ]
    }
   ],
   "source": [
    "len_corpus(corpus_1940)\n",
    "len_corpus(corpus_1990)\n",
    "len_corpus(corpus_2000)\n",
    "len_corpus(corpus_2010)"
   ]
  },
  {
   "cell_type": "code",
   "execution_count": 15,
   "metadata": {},
   "outputs": [
    {
     "data": {
      "image/png": "[encoded data removed]",
      "text/plain": [
       "<Figure size 1152x432 with 1 Axes>"
      ]
     },
     "metadata": {
      "needs_background": "light"
     },
     "output_type": "display_data"
    }
   ],
   "source": [
    "#Subcorpus 1\n",
    "plt.bar(*corpus_1940.distribution(), color='gray', edgecolor='black')    # <-- The action.\n",
    "plt.xlabel(r'\\textbf{YEAR}', fontsize=11)\n",
    "plt.ylabel(r'\\textbf{NUMBER OF DOCUMENTS}', fontsize=11)\n",
    "plt.title(r'\\textbf{PUBLICATIONS (1940 - 1990)}', fontsize = 14, color='k')\n",
    "plt.grid(True)"
   ]
  },
  {
   "cell_type": "code",
   "execution_count": 16,
   "metadata": {},
   "outputs": [
    {
     "data": {
      "image/png": "[encoded data removed]",
      "text/plain": [
       "<Figure size 1152x432 with 1 Axes>"
      ]
     },
     "metadata": {
      "needs_background": "light"
     },
     "output_type": "display_data"
    }
   ],
   "source": [
    "#Subcorpus 2\n",
    "plt.bar(*corpus_1990.distribution(), color='gray', edgecolor='black')    # <-- The action.\n",
    "plt.xlabel(r'\\textbf{YEAR}', fontsize=11)\n",
    "plt.ylabel(r'\\textbf{NUMBER OF DOCUMENTS}', fontsize=11)\n",
    "plt.title(r'\\textbf{PUBLICATIONS (1990 - 2000)}', fontsize = 14, color='k')\n",
    "plt.grid(True)"
   ]
  },
  {
   "cell_type": "code",
   "execution_count": 17,
   "metadata": {},
   "outputs": [
    {
     "data": {
      "image/png": "[encoded data removed]",
      "text/plain": [
       "<Figure size 1152x432 with 1 Axes>"
      ]
     },
     "metadata": {
      "needs_background": "light"
     },
     "output_type": "display_data"
    }
   ],
   "source": [
    "#Subcorpus 3\n",
    "plt.bar(*corpus_2000.distribution(), color='gray', edgecolor='black')    # <-- The action.\n",
    "plt.xlabel(r'\\textbf{YEAR}', fontsize=11)\n",
    "plt.ylabel(r'\\textbf{NUMBER OF DOCUMENTS}', fontsize=11)\n",
    "plt.title(r'\\textbf{PUBLICATIONS (2000 - 2010)}', fontsize = 14, color='k')\n",
    "plt.grid(True)"
   ]
  },
  {
   "cell_type": "code",
   "execution_count": 18,
   "metadata": {},
   "outputs": [
    {
     "data": {
      "image/png": "[encoded data removed]",
      "text/plain": [
       "<Figure size 1152x432 with 1 Axes>"
      ]
     },
     "metadata": {
      "needs_background": "light"
     },
     "output_type": "display_data"
    }
   ],
   "source": [
    "#Subcorpus 4\n",
    "plt.bar(*corpus_2010.distribution(), color='gray', edgecolor='black')    # <-- The action.\n",
    "plt.xlabel(r'\\textbf{YEAR}', fontsize=11)\n",
    "plt.ylabel(r'\\textbf{NUMBER OF DOCUMENTS}', fontsize=11)\n",
    "plt.title(r'\\textbf{PUBLICATIONS (2010 - 2019)}', fontsize = 14, color='k')\n",
    "plt.grid(True)\n",
    "#plt.savefig('subcorpus')"
   ]
  },
  {
   "cell_type": "markdown",
   "metadata": {},
   "source": [
    "## Subcorpus Keywords Analysis (1940-1990)"
   ]
  },
  {
   "cell_type": "code",
   "execution_count": 19,
   "metadata": {},
   "outputs": [
    {
     "data": {
      "text/plain": [
       "[u'abstract', 'citations', u'authorKeywords', 'authors']"
      ]
     },
     "execution_count": 19,
     "metadata": {},
     "output_type": "execute_result"
    }
   ],
   "source": [
    "#wos_corpus.index('authorKeywords')\n",
    "\n",
    "corpus_1940.index_feature('authorKeywords')\n",
    "corpus_1940.features.keys()"
   ]
  },
  {
   "cell_type": "code",
   "execution_count": 20,
   "metadata": {},
   "outputs": [
    {
     "name": "stdout",
     "output_type": "stream",
     "text": [
      "[(u'TIME SERIES', 27.0), (u'FORECASTING', 19.0), (u'ARIMA', 15.0), (u'BOX-JENKINS', 11.0), (u'ARMA', 9.0), (u'ECONOMIC', 8.0), (u'TIME SERIES FORECASTING', 8.0), (u'ARIMA MODELS', 7.0), (u'FORECASTING MODELS', 7.0), (u'TIME SERIES MODELS', 7.0), (u'EXPONENTIAL SMOOTHING', 5.0), (u'DEMAND', 5.0), (u'STATISTICAL FORECASTS', 5.0), (u'WEATHER', 4.0), (u'AUTOCORRELATION', 4.0), (u'SALES', 4.0), (u'EXOGENOUS VARIABLES', 4.0), (u'TIME SERIES ANALYSIS', 4.0), (u'STOCHASTIC', 4.0), (u'BAYESIAN', 4.0), (u'BOX\\u2010JENKINS', 4.0), (u'REGRESSION', 3.0), (u'KALMAN FILTER', 3.0), (u'TIME SERIES MODEL', 3.0), (u'MOVING AVERAGE', 3.0), (u'HOLT-WINTERS', 3.0), (u'ENERGY', 2.0), (u'LINEAR COMBINATION', 2.0), (u'AGGREGATION', 2.0), (u'TIME-SERIES', 2.0), (u'STATISTICS', 2.0), (u'TRANSFER FUNCTION', 2.0), (u'FORECASTING ACCURACY', 2.0), (u'MULTIVARIATE', 2.0), (u'ECONOMETRIC MODELS', 2.0), (u'UNIVARIATE', 2.0), (u'HOLT\\u2010WINTERS', 2.0), (u'FINANCIAL', 2.0), (u'LOGISTIC CURVE', 2.0), (u'MARKET', 2.0), (u'POPULATION', 2.0), (u'AUTOREGRESSIVE', 2.0), (u'INTERVENTIONS', 2.0), (u'OUTLIERS', 2.0), (u'REGRESSION ANALYSIS', 2.0), (u'TRAFFIC', 2.0), (u'DETERMINISTIC', 2.0), (u'SECURITY', 2.0), (u'POWER', 2.0), (u'LOAD-DURATION', 1.0), (u'ORDER DETERMINATION', 1.0), (u'ARARMA MODEL', 1.0), (u'PREDICTION VARIANCE HORIZON', 1.0), (u'CAT', 1.0), (u'ARIMA MODEL', 1.0), (u'TOURISM', 1.0), (u'BOX-JENKINS MODELS', 1.0), (u'ECONOMETRIC FORECASTING', 1.0), (u'COMBINATION FORECASTING', 1.0), (u'LABOR PRODUCTIVITY', 1.0), (u'AGGREGATE SERIES', 1.0), (u'MULTIPLE FORECASTING MODEL', 1.0), (u'HILBERT SPACE', 1.0), (u'SMOG EFFECT', 1.0), (u'POLLUTANT CONCENTRATIONS', 1.0), (u'LRE', 1.0), (u'LINEAR RECURSIVE ESTIMATOR', 1.0), (u'MAKRIDAKIS-WHEELWRIGHT', 1.0), (u\"WIDROW'S LEAST MEAN SQUARE\", 1.0), (u'FORECAST EFFICIENCY', 1.0), (u'MODELLING', 1.0), (u'SYTEMATIC SAMPLING', 1.0), (u'WINTER', 1.0), (u'PETTERN', 1.0), (u'TEMPERATURE', 1.0), (u'OPTIMIZATION', 1.0), (u'SMOOTH', 1.0), (u'HOUSING STARTS', 1.0), (u'DYNAMIC LINEAR MODEL', 1.0), (u'ENDOGENOUS VARIABLES', 1.0), (u'ROBUST REGRESSION', 1.0), (u'TELECOMMUNICATIONS DEMAND', 1.0), (u'AUTOCORRELATED TIME SERIES', 1.0), (u\"BROWN'S ADAPTIVE SMOOTHING\", 1.0), (u'MUNICIPAL', 1.0), (u'WATER USE', 1.0), (u'VARIANCES', 1.0), (u'POOLED CROSS\\u2010SECTIONAL', 1.0), (u'SHORT HISTORY FORECASTING', 1.0), (u'CHANGE\\u2010POINT MODELS', 1.0), (u'PREDICTIVE MEANS', 1.0), (u'DISTRIBUTED LAG', 1.0), (u'COMPOSITE FORECASTS', 1.0), (u'REGRESSION, DYNAMIC REGRESSION', 1.0), (u'BENCHMARKING', 1.0), (u'MODEL FORECAST', 1.0), (u'AMERICAN STATISTICAL ASSOCIATION', 1.0), (u'MORTALITY PROBABILITY', 1.0), (u'MEAN ABSOLUTE PERCENT ERROR', 1.0), (u'COST', 1.0), (u'SALES FORECASTING', 1.0), (u'JUDGEMENTAL FORECASTING', 1.0), (u'BOX-JENKINS ANALYSIS', 1.0), (u'INWARD', 1.0), (u'USE', 1.0), (u'BOX AND JENKINS', 1.0), (u'OUTWARD', 1.0), (u'SEASONAL MODELS', 1.0), (u'POWER TRANSFORMATION', 1.0), (u'INFORMATION CRITERION', 1.0), (u'FORECASTING SYSTEM', 1.0), (u'\\xa3M3', 1.0), (u'FPM', 1.0), (u'TRAINING DATA', 1.0), (u'PATTERN ANALYSIS', 1.0), (u'ARMP', 1.0), (u'HYDROLOGICAL', 1.0), (u'FORECASTING, END\\u2010USE', 1.0), (u'ELECTRICITY, TIME\\u2010SERIES', 1.0), (u'SURARMA', 1.0), (u'DISCRETE LINEAR', 1.0), (u'ECONOMETRIC MODEL', 1.0), (u'CXS', 1.0), (u'NEOCLASSICAL ECONOMICS', 1.0), (u'NONLINEAR', 1.0), (u'MICRODYNAMIC MODELS', 1.0), (u'PARSIMONY', 1.0), (u'AUTOREGRESSION', 1.0), (u'SIMULATION', 1.0), (u'ECONOMIC TIME SERIES', 1.0), (u'STEPWISE AUTOREGRESSION', 1.0), (u'VANDERMONDE MATRIX', 1.0), (u'TERMED EXPONOMIAL', 1.0), (u'EXPONENTIAL POLYNOMIAL', 1.0), (u'FORECASTING FINANCIAL', 1.0), (u'SUPPLY', 1.0), (u'COSTS', 1.0), (u'CASH FLOWS', 1.0), (u'ANALYSIS', 1.0), (u'INTERVENTION', 1.0), (u'TREND', 1.0), (u'MULTICOLLINEARITY', 1.0), (u'SATURATION LEVEL', 1.0), (u'PARALLELISM', 1.0), (u'PARAMETRIC MODELING', 1.0), (u'AUTOREGRESSIVE PROCESSES', 1.0), (u'EFFICIENCY', 1.0), (u'SAMPLING INTERVAL', 1.0), (u'FRACTIONAL DIFFERENCING', 1.0), (u'FRACTIONAL ARMA', 1.0), (u'FRACTIONAL GAUSSIAN NOISE', 1.0), (u'CLIMATE', 1.0), (u'11-YEAR', 1.0), (u'PERIODIC 18.6-YEAR', 1.0), (u'INDUCED DROUGHT', 1.0), (u'FLOOD', 1.0), (u'UNITED-STATES', 1.0), (u'EMPIRICAL APPROACH', 1.0), (u'PREDICTION', 1.0), (u'CHEBYSHEV INEQUALITY', 1.0), (u'COMPUTER PROGRAM MICROCOMPUTERS', 1.0), (u\"BROWN'S DOUBLE EXPONENTIAL\", 1.0), (u'SMOOTHING', 1.0), (u'SINGLE EXPONENTIAL SMOOTHING', 1.0), (u'ADAPTIVE-RESPONSE-RATE SINGLE EXPONENTIAL SMOOTHING', 1.0), (u'WHARTON MODEL', 1.0), (u'COMPARATIVE ACCURACY', 1.0), (u'FORECASTING HORIZON', 1.0), (u'PARAMETRIC STABILITY', 1.0), (u'CAUSAL', 1.0), (u'MODEL PREDICTOR', 1.0), (u'ENVIRONMENTAL ECONOMIC', 1.0), (u'EVALUATION PERIOD', 1.0), (u'IMPORTANT INDICATOR', 1.0), (u'VECTOR ARMA MODELS', 1.0), (u'TRANSFER FUNCTION MODELS', 1.0), (u'INDEX OF FERTILITY', 1.0), (u'INDEX OF NUPTIALITY', 1.0), (u'CONSUM', 1.0), (u'INTEREST RATE', 1.0), (u'ADAPTIVE FILTER', 1.0), (u'MULTIVARIATE ARIMA MODELS', 1.0), (u'FILTERS', 1.0), (u'CIRCULATION', 1.0), (u'PRESSURE PATTERNS', 1.0), (u'SAMPLE PROPERTIES', 1.0), (u'STOCK-PRICES', 1.0), (u'STOCHASTIC CONSUMPTION', 1.0), (u'VARIANCE BOUNDS TESTS', 1.0), (u'COINTEGRATION', 1.0), (u'INTERTEMPORAL SUBSTITUTION', 1.0), (u'RETURNS', 1.0), (u'TIME-SERIES REGRESSION', 1.0), (u'VOLATILITY', 1.0), (u'VECTOR AUTOREGRESSION', 1.0), (u'MOVING AVERAGE MODEL', 1.0), (u'MULTIVARIATE AUTOREGRESSIVE', 1.0), (u'FORECASTING MULTIVARIATE', 1.0), (u'PATIENT CENSUS', 1.0), (u'IARMA', 1.0)]\n"
     ]
    }
   ],
   "source": [
    "store = list()\n",
    "featureset = corpus_1940.features['authorKeywords']\n",
    "for k, count in featureset.documentCounts.items():\n",
    "    store.append((featureset.index[k], count))\n",
    "\n",
    "Keywords_1940 = sorted(store, key=lambda x: x[1], reverse=True)\n",
    "\n",
    "print(Keywords_1940[:200])"
   ]
  },
  {
   "cell_type": "code",
   "execution_count": 21,
   "metadata": {},
   "outputs": [],
   "source": [
    "#Function for search element inside the tuple and show in reverse order\n",
    "def search_tuple(data, element):\n",
    "    index = next((i for i,v in enumerate(data) if v[0] == element),-1)\n",
    "    return(index)"
   ]
  },
  {
   "cell_type": "code",
   "execution_count": 22,
   "metadata": {},
   "outputs": [],
   "source": [
    "#Searching Time Series Forecasting Method' indexes\n",
    "winter = search_tuple(Keywords_1940, 'HOLT-WINTERS')\n",
    "winter2 = search_tuple(Keywords_1940, 'HOLT\\u2010WINTERS')\n",
    "\n",
    "box1 = search_tuple(Keywords_1940, 'BOX-JENKINS')\n",
    "box2 = search_tuple(Keywords_1940, 'BOX\\u2010JENKINS')\n",
    "box3 = search_tuple(Keywords_1940, 'BOX-JENKINS MODELS')\n",
    "box4 = search_tuple(Keywords_1940, 'BOX-JENKINS ANALYSIS')\n",
    "\n",
    "arma1 = search_tuple(Keywords_1940, 'ARMA')\n",
    "arma2 = search_tuple(Keywords_1940, 'IARMA')\n",
    "arma3 = search_tuple(Keywords_1940, 'ARARMA MODEL')\n",
    "\n",
    "arima1 = search_tuple(Keywords_1940, 'ARIMA MODELS')\n",
    "arima2 = search_tuple(Keywords_1940, 'ARIMA')\n",
    "arima3 = search_tuple(Keywords_1940, 'ARIMA MODEL')\n",
    "arima4 = search_tuple(Keywords_1940, 'MULTIVARIATE ARIMA MODELS')\n",
    "\n",
    "smooth = search_tuple(Keywords_1940, 'EXPONENTIAL SMOOTHING')\n",
    "\n",
    "stochast = search_tuple(Keywords_1940, 'STOCHASTIC')\n",
    "\n",
    "bayes = search_tuple(Keywords_1940, 'BAYESIAN')\n",
    "\n",
    "regress1 = search_tuple(Keywords_1940, 'REGRESSION')\n",
    "regress2 = search_tuple(Keywords_1940, 'REGRESSION ANALYSIS')\n",
    "regress3 = search_tuple(Keywords_1940, 'ROBUST REGRESSION')\n",
    "regress4 = search_tuple(Keywords_1940, 'REGRESSION, DYNAMIC REGRESSION')\n",
    "regress5 = search_tuple(Keywords_1940, 'TIME-SERIES REGRESSION')\n",
    "\n",
    "kalman = search_tuple(Keywords_1940, 'KALMAN FILTER')"
   ]
  },
  {
   "cell_type": "code",
   "execution_count": 23,
   "metadata": {},
   "outputs": [],
   "source": [
    "#Unification list for different forecasting methods\n",
    "\n",
    "#HOLT-WINTERS\n",
    "winter_id = Keywords_1940[winter][0]\n",
    "winter_ref = Keywords_1940[winter][1] + Keywords_1940[winter2][1]\n",
    "winter_ind = (winter_id, winter_ref)\n",
    "\n",
    "#BOX-JENKINS\n",
    "box_id = Keywords_1940[box1][0]\n",
    "box_ref = Keywords_1940[box1][1] + Keywords_1940[box2][1] + Keywords_1940[box3][1] + Keywords_1940[box4][1]\n",
    "box_ind = (box_id, box_ref)\n",
    "\n",
    "#ARMA\n",
    "arma_id = Keywords_1940[arma1][0]\n",
    "arma_ref = Keywords_1940[arma1][1] + Keywords_1940[arma2][1] + Keywords_1940[arma3][1]\n",
    "arma_ind = (arma_id, arma_ref)\n",
    "\n",
    "#ARIMA\n",
    "arima_id = Keywords_1940[arima2][0]\n",
    "arima_ref = Keywords_1940[arima1][1] + Keywords_1940[arima2][1] + Keywords_1940[arima3][1] + Keywords_1940[arima4][1]\n",
    "arima_ind = (arima_id, arima_ref)\n",
    "\n",
    "#REGRESSION\n",
    "regress_id = Keywords_1940[regress1][0]\n",
    "regress_ref = Keywords_1940[regress1][1] + Keywords_1940[regress2][1] + Keywords_1940[regress3][1] + Keywords_1940[regress4][1] + Keywords_1940[regress5][1]\n",
    "regress_ind = (regress_id, regress_ref)\n"
   ]
  },
  {
   "cell_type": "code",
   "execution_count": 24,
   "metadata": {},
   "outputs": [
    {
     "data": {
      "image/png": "[encoded data removed]",
      "text/plain": [
       "<Figure size 1152x432 with 1 Axes>"
      ]
     },
     "metadata": {
      "needs_background": "light"
     },
     "output_type": "display_data"
    }
   ],
   "source": [
    "#Bar graph for methods\n",
    "\n",
    "methods = [Keywords_1940[stochast], Keywords_1940[bayes], Keywords_1940[smooth],\n",
    "           Keywords_1940[kalman], winter_ind, box_ind, arma_ind, arima_ind, regress_ind]\n",
    "\n",
    "# sort in-place from highest to lowest\n",
    "methods.sort(key=lambda x: x[1], reverse=False) \n",
    "\n",
    "# save the names and their respective scores separately\n",
    "# reverse the tuples to go from most frequent to least frequent \n",
    "topic = zip(*methods)[0]\n",
    "score = zip(*methods)[1]\n",
    "\n",
    "x_pos = np.arange(len(topic)) \n",
    "\n",
    "plt.barh(x_pos, score, align='center', color='gray', edgecolor='black')\n",
    "plt.yticks(x_pos, topic)\n",
    "plt.xlabel(r'\\textbf{NUMBER OF DOCUMENTS WHERE THE METHOD WAS MENTIONED}')\n",
    "plt.ylabel(r'\\textbf{METHODS}')\n",
    "plt.title(r'\\textbf{SOME FORECASTING METHODS THAT HAVE BEEN USED BETWEEN 1940-1990}', fontsize=14, color='k')\n",
    "\n",
    "plt.grid(True)\n",
    "#plt.savefig('figure_2')\n",
    "plt.show()"
   ]
  },
  {
   "cell_type": "code",
   "execution_count": 25,
   "metadata": {},
   "outputs": [],
   "source": [
    "#Searching Research Topics index\n",
    "#ECONOMIC\n",
    "economic1 = search_tuple(Keywords_1940, 'ECONOMIC')\n",
    "economic2 = search_tuple(Keywords_1940, 'ECONOMETRIC MODELS')\n",
    "economic3 = search_tuple(Keywords_1940, 'ECONOMETRIC FORECASTING')\n",
    "economic4 = search_tuple(Keywords_1940, 'ECONOMETRIC MODEL')\n",
    "economic5 = search_tuple(Keywords_1940, 'ECONOMIC TIME SERIES')\n",
    "\n",
    "#SALES\n",
    "sales1 = search_tuple(Keywords_1940, 'SALES')\n",
    "sales2 = search_tuple(Keywords_1940, 'SALES FORECASTING')\n",
    "\n",
    "#ENERGY\n",
    "energy1 = search_tuple(Keywords_1940, 'ENERGY')\n",
    "energy2 = search_tuple(Keywords_1940, 'POWER')\n",
    "\n",
    "demand = search_tuple(Keywords_1940, 'DEMAND')\n",
    "\n",
    "weather = search_tuple(Keywords_1940, 'WEATHER')\n",
    "\n",
    "market = search_tuple(Keywords_1940, 'MARKET')\n",
    "\n",
    "finance = search_tuple(Keywords_1940, 'FINANCIAL')"
   ]
  },
  {
   "cell_type": "code",
   "execution_count": 26,
   "metadata": {},
   "outputs": [],
   "source": [
    "#Unification list for different forecasting methods\n",
    "\n",
    "#ECONOMIC\n",
    "economic_id = Keywords_1940[economic1][0]\n",
    "economic_ref = Keywords_1940[economic1][1] + Keywords_1940[economic2][1] + Keywords_1940[economic3][1] + Keywords_1940[economic4][1] + Keywords_1940[economic5][1]\n",
    "economic_ind = (economic_id, economic_ref)\n",
    "\n",
    "#SALES\n",
    "sales_id = Keywords_1940[sales1][0]\n",
    "sales_ref = Keywords_1940[sales1][1] + Keywords_1940[sales2][1]\n",
    "sales_ind = (sales_id, sales_ref)\n",
    "\n",
    "#ENERGY\n",
    "energy_id = Keywords_1940[energy1][0]\n",
    "energy_ref = Keywords_1940[energy1][1] + Keywords_1940[energy2][1]\n",
    "energy_ind = (energy_id, energy_ref)"
   ]
  },
  {
   "cell_type": "code",
   "execution_count": 27,
   "metadata": {},
   "outputs": [
    {
     "data": {
      "image/png": "[encoded data removed]",
      "text/plain": [
       "<Figure size 1152x432 with 1 Axes>"
      ]
     },
     "metadata": {
      "needs_background": "light"
     },
     "output_type": "display_data"
    }
   ],
   "source": [
    "#Bar graph for topics\n",
    "\n",
    "techniques = [Keywords_1940[demand], Keywords_1940[weather], Keywords_1940[market], Keywords_1940[finance],\n",
    "           economic_ind, sales_ind, energy_ind]\n",
    "\n",
    "# sort in-place from highest to lowest\n",
    "techniques.sort(key=lambda x: x[1], reverse=False) \n",
    "\n",
    "# save the names and their respective scores separately\n",
    "# reverse the tuples to go from most frequent to least frequent \n",
    "technique = zip(*techniques)[0]\n",
    "score = zip(*techniques)[1]\n",
    "#print(people)\n",
    "x_pos = np.arange(len(technique)) \n",
    "   \n",
    "plt.barh(x_pos, score, align='center', color='gray', edgecolor='black')\n",
    "plt.yticks(x_pos, technique)\n",
    "plt.xlabel(r'\\textbf{NUMBER OF DOCUMENTS WHERE THE TOPIC WAS MENTIONED}')\n",
    "plt.ylabel(r'\\textbf{TECHNIQUES USED}')\n",
    "plt.title(r'\\textbf{SOME TOPICS THAT HAVE BEEN STUDIED BETWEEN 1940-1990}', fontsize=14, color='k')\n",
    "\n",
    "plt.grid(True)\n",
    "#plt.savefig('figure_3')\n",
    "plt.show()\n"
   ]
  },
  {
   "cell_type": "markdown",
   "metadata": {},
   "source": [
    "## Subcorpus Keywords Analysis (1991-2000)"
   ]
  },
  {
   "cell_type": "code",
   "execution_count": 28,
   "metadata": {},
   "outputs": [
    {
     "data": {
      "text/plain": [
       "[u'abstract', 'citations', u'authorKeywords', 'authors']"
      ]
     },
     "execution_count": 28,
     "metadata": {},
     "output_type": "execute_result"
    }
   ],
   "source": [
    "#wos_corpus.index('authorKeywords')\n",
    "\n",
    "corpus_1990.index_feature('authorKeywords')\n",
    "corpus_1990.features.keys()"
   ]
  },
  {
   "cell_type": "code",
   "execution_count": 29,
   "metadata": {},
   "outputs": [
    {
     "name": "stdout",
     "output_type": "stream",
     "text": [
      "[(u'TIME-SERIES', 285.0), (u'MODELS', 132.0), (u'MODEL', 78.0), (u'ACCURACY', 61.0), (u'PREDICTION', 59.0), (u'UNIT-ROOT', 53.0), (u'SYSTEMS', 47.0), (u'COINTEGRATION', 40.0), (u'FORECASTS', 37.0), (u'TESTS', 35.0), (u'CHAOS', 34.0), (u'STRANGE ATTRACTORS', 32.0), (u'DYNAMICS', 32.0), (u'PERFORMANCE', 32.0), (u'INTEGRATION', 31.0), (u'INFORMATION', 30.0), (u'SERIES', 29.0), (u'REGRESSION', 29.0), (u'VARIABILITY', 27.0), (u'SYSTEM', 26.0), (u'TRENDS', 26.0), (u'VARIANCE', 24.0), (u'AUTOREGRESSIVE TIME-SERIES', 21.0), (u'CHAOTIC TIME-SERIES', 21.0), (u'BEHAVIOR', 20.0), (u'TIME-SERIES MODELS', 20.0), (u'DEMAND', 19.0), (u'UNITED-STATES', 19.0), (u'EXPECTATIONS', 19.0), (u'DIMENSION', 18.0), (u'MARKET', 18.0), (u'INFERENCE', 18.0), (u'HETEROSKEDASTICITY', 18.0), (u'RATES', 17.0), (u'OUTPUT', 16.0), (u'TEMPERATURE', 15.0), (u'IDENTIFICATION', 15.0), (u'STOCK RETURNS', 15.0), (u'RAINFALL', 14.0), (u'EXTRAPOLATION', 14.0), (u'RETURNS', 14.0), (u'PRICES', 14.0), (u'MONEY', 14.0), (u'BUSINESS-CYCLE', 14.0), (u'ORDER', 14.0), (u'ECONOMIC TIME-SERIES', 14.0), (u'CIRCULATION', 14.0), (u'ANOMALIES', 13.0), (u'FLUCTUATIONS', 13.0), (u'ATTRACTORS', 13.0), (u'PARAMETERS', 13.0), (u'EFFICIENCY', 13.0), (u'PRECIPITATION', 13.0), (u'COMPETITION', 13.0), (u'CLIMATE', 12.0), (u'TERM STRUCTURE', 12.0), (u'HYPOTHESIS', 12.0), (u'TIME', 12.0), (u'OUTLIERS', 12.0), (u'COMBINATION', 12.0), (u'INFLATION', 11.0), (u'MULTILAYER FEEDFORWARD NETWORKS', 11.0), (u'EL-NINO', 11.0), (u'MARKETS', 11.0), (u'ERRORS', 11.0), (u'VOLATILITY', 11.0), (u'CONSUMPTION', 11.0), (u'NOISE', 11.0), (u'SAMPLE', 11.0), (u'ERROR', 11.0), (u'PARAMETERIZATION', 10.0), (u'PATTERNS', 10.0), (u'ADJUSTMENT', 10.0), (u'CYCLE', 10.0), (u'TIME-SERIES ANALYSIS', 10.0), (u'ERROR CORRECTION', 9.0), (u'TIME-SERIES REGRESSION', 9.0), (u'ALGORITHM', 9.0), (u'OCEAN', 9.0), (u'MACROECONOMIC TIME-SERIES', 9.0), (u'RISK', 9.0), (u'COINTEGRATION VECTORS', 9.0), (u'SELECTION', 9.0), (u'POPULATION', 9.0), (u'NEURAL NETWORKS', 8.0), (u'LYAPUNOV EXPONENTS', 8.0), (u'CONFIDENCE-INTERVALS', 8.0), (u'TURBULENCE', 8.0), (u'INCOME', 8.0), (u'STATISTICAL PROCESS-CONTROL', 8.0), (u'SEA-SURFACE TEMPERATURE', 8.0), (u'SOUTHERN OSCILLATION', 8.0), (u'INTEREST-RATES', 8.0), (u'ESTIMATORS', 8.0), (u'DISTRIBUTIONS', 8.0), (u'STATISTICAL FORECASTS', 8.0), (u'GENERAL-CIRCULATION MODEL', 8.0), (u'VARIABLES', 8.0), (u'SCHEME', 8.0), (u'FLOW', 8.0), (u'UNIT ROOTS', 8.0), (u'NETWORKS', 7.0), (u'RANDOM-WALKS', 7.0), (u'STOCHASTIC VOLATILITY', 7.0), (u'HETEROSCEDASTICITY', 7.0), (u'CONVERGENCE', 7.0), (u'INTERPOLATION', 7.0), (u'APPROXIMATION', 7.0), (u'VECTOR AUTOREGRESSIONS', 7.0), (u'UNITED-KINGDOM', 7.0), (u'VECTORS', 7.0), (u'SIMULATION', 7.0), (u'CAUSALITY', 7.0), (u'LONG-RUN', 7.0), (u'WINTER', 7.0), (u'STATISTICS', 7.0), (u'COMPLEXITY', 7.0), (u'SCALE', 7.0), (u'CONDITIONAL HETEROSKEDASTICITY', 6.0), (u'OPTIONS', 6.0), (u'BOUNDARY-LAYER', 6.0), (u'AGE', 6.0), (u'BIRTHS', 6.0), (u'FERTILITY', 6.0), (u'MORTALITY', 6.0), (u'SPECTRA', 6.0), (u'MULTIPLE TIME-SERIES', 6.0), (u'EXPERIENCE', 6.0), (u'RATIONAL-EXPECTATIONS', 6.0), (u'EXPONENTS', 6.0), (u'ERROR-CORRECTION', 6.0), (u'PERSISTENCE', 6.0), (u'ENTROPY', 6.0), (u'STOCHASTIC TRENDS', 6.0), (u'LEVEL', 6.0), (u'MOVING AVERAGE MODELS', 6.0), (u'NONLINEAR PREDICTION', 6.0), (u'TEMPERATURES', 6.0), (u'PREDICTABILITY', 6.0), (u'EVOLUTION', 6.0), (u'PACIFIC', 6.0), (u'OSCILLATIONS', 6.0), (u'SEASONALITY', 6.0), (u'STATE', 6.0), (u'POWER', 6.0), (u'ERROR MEASURES', 6.0), (u'WEATHER', 6.0), (u'COMBINING FORECASTS', 6.0), (u'ECONOMIC FORECASTS', 6.0), (u'NONLINEARITY', 6.0), (u'CONSISTENT COVARIANCE-MATRIX', 6.0), (u'TRANSPORT', 5.0), (u'NORTHERN-HEMISPHERE', 5.0), (u'NATIONAL-METEOROLOGICAL-CENTER', 5.0), (u'HEURISTICS', 5.0), (u'SURFACE-TEMPERATURE', 5.0), (u'SENSITIVITY', 5.0), (u'FOREIGN-EXCHANGE MARKET', 5.0), (u'FORECASTING ENROLLMENTS', 5.0), (u'ECONOMY', 5.0), (u'NONLINEAR DYNAMICS', 5.0), (u'DATA ASSIMILATION', 5.0), (u'LINEAR-REGRESSION', 5.0), (u'MULTIVARIATE', 5.0), (u'INVESTMENT PERFORMANCE', 5.0), (u'REAL ACTIVITY', 5.0), (u'COMPONENTS', 5.0), (u'RANDOMNESS', 5.0), (u'TIME-SERIES METHODS', 5.0), (u'FORECAST', 5.0), (u'SUBSTITUTION', 5.0), (u'INDEXES', 5.0), (u'DESIGN', 5.0), (u'LIKELIHOOD', 5.0), (u'SKILL', 5.0), (u'REPRESENTATION', 5.0), (u'GROWTH-CURVES', 5.0), (u'CONTROL CHARTS', 5.0), (u'EXCHANGE-RATES', 5.0), (u'GNP', 5.0), (u'ENSO', 5.0), (u'ACCOUNTING EARNINGS', 5.0), (u'STOCK-PRICES', 5.0), (u'SCHEMES', 5.0), (u'RATE MODELS', 5.0), (u'REAL', 4.0), (u'RETURN', 4.0), (u'WEATHER PREDICTION', 4.0), (u'HEAT', 4.0), (u'ROOT', 4.0), (u'APPROXIMATE', 4.0), (u'RADIATION', 4.0), (u'NINO SOUTHERN OSCILLATION', 4.0), (u'EXCHANGE', 4.0), (u'BIASES', 4.0), (u'EQUATIONS', 4.0), (u'ADDITIVE OUTLIERS', 4.0), (u'SEA', 4.0), (u'STATE-SPACE MODELS', 4.0), (u'PROJECTIONS', 4.0)]\n"
     ]
    }
   ],
   "source": [
    "store = list()\n",
    "featureset = corpus_1990.features['authorKeywords']\n",
    "for k, count in featureset.documentCounts.items():\n",
    "    store.append((featureset.index[k], count))\n",
    "\n",
    "Keywords_1990 = sorted(store, key=lambda x: x[1], reverse=True)\n",
    "\n",
    "print(Keywords_1990[:200])"
   ]
  },
  {
   "cell_type": "code",
   "execution_count": 30,
   "metadata": {},
   "outputs": [],
   "source": [
    "#Searching Time Series Forecasting Methods\n",
    "\n",
    "#REGRESSION\n",
    "regress1 = search_tuple(Keywords_1990, 'REGRESSION')\n",
    "regress2 = search_tuple(Keywords_1990, 'TIME-SERIES REGRESSION')\n",
    "regress3 = search_tuple(Keywords_1990, 'LINEAR-REGRESSION')\n",
    "regress4 = search_tuple(Keywords_1990, 'INTERPOLATION')\n",
    "regress5 = search_tuple(Keywords_1990, 'EXTRAPOLATION')\n",
    "\n",
    "#AUTOREGRESSIVE\n",
    "arima1 = search_tuple(Keywords_1990, 'AUTOREGRESSIVE TIME-SERIES')\n",
    "arima2 = search_tuple(Keywords_1990, 'ARIMA')\n",
    "\n",
    "#HETEROSCEDASTICITY\n",
    "hetero1 = search_tuple(Keywords_1990, 'HETEROSKEDASTICITY')\n",
    "hetero2 = search_tuple(Keywords_1990, 'CONDITIONAL HETEROSKEDASTICITY')\n",
    "hetero3 = search_tuple(Keywords_1990, 'HETEROSCEDASTICITY')\n",
    "\n",
    "#NEURAL NETWORKS\n",
    "neural1 = search_tuple(Keywords_1990, 'NEURAL NETWORKS')\n",
    "neural2 = search_tuple(Keywords_1990, 'MULTILAYER FEEDFORWARD NETWORKS')\n",
    "\n",
    "lyapunov = search_tuple(Keywords_1990, 'LYAPUNOV EXPONENTS')\n",
    "\n",
    "simu = search_tuple(Keywords_1990, 'SIMULATION')\n",
    "\n",
    "#COINTEGRATION VECTORS\n",
    "vector = search_tuple(Keywords_1990, 'COINTEGRATION VECTORS')"
   ]
  },
  {
   "cell_type": "code",
   "execution_count": 31,
   "metadata": {},
   "outputs": [],
   "source": [
    "#Unification list for different forecasting methods\n",
    "\n",
    "#REGRESSION\n",
    "regress_id = Keywords_1990[regress1][0]\n",
    "regress_ref = Keywords_1990[regress1][1] + Keywords_1990[regress2][1] + Keywords_1990[regress3][1] + Keywords_1990[regress4][1] + Keywords_1990[regress5][1]\n",
    "regress_ind = (regress_id, regress_ref)\n",
    "\n",
    "\n",
    "#AUTOREGRESSIVE\n",
    "arima_id = Keywords_1990[arima2][0]\n",
    "arima_ref = Keywords_1990[arima1][1] + Keywords_1990[arima2][1]\n",
    "arima_ind = (arima_id, arima_ref)\n",
    "\n",
    "#HETEROSCEDASTICITY\n",
    "hetero_id = Keywords_1990[hetero1][0]\n",
    "hetero_ref = Keywords_1990[hetero1][1] + Keywords_1990[hetero2][1] + Keywords_1990[hetero3][1]\n",
    "hetero_ind = (hetero_id, hetero_ref)\n",
    "\n",
    "#NEURAL NETWORKS\n",
    "neural_id = Keywords_1990[neural1][0]\n",
    "neural_ref = Keywords_1990[neural1][1] + Keywords_1990[neural2][1]\n",
    "neural_ind = (neural_id, neural_ref)"
   ]
  },
  {
   "cell_type": "code",
   "execution_count": 32,
   "metadata": {},
   "outputs": [
    {
     "data": {
      "image/png": "[encoded data removed]",
      "text/plain": [
       "<Figure size 1152x432 with 1 Axes>"
      ]
     },
     "metadata": {
      "needs_background": "light"
     },
     "output_type": "display_data"
    }
   ],
   "source": [
    "#Bar graph for topics\n",
    "topics = [Keywords_1990[lyapunov], Keywords_1990[simu], Keywords_1990[vector], regress_ind, arima_ind, hetero_ind, neural_ind]\n",
    "\n",
    "# sort in-place from highest to lowest\n",
    "topics.sort(key=lambda x: x[1], reverse=False) \n",
    "\n",
    "# reverse the tuples to go from most frequent to least frequent \n",
    "topic = zip(*topics)[0]\n",
    "score = zip(*topics)[1]\n",
    "\n",
    "x_pos = np.arange(len(topics)) \n",
    "  \n",
    "plt.barh(x_pos, score, align='center', color='gray', edgecolor='black')\n",
    "plt.yticks(x_pos, topic)\n",
    "plt.xlabel(r'\\textbf{NUMBER OF DOCUMENTS WHERE THE TECHNIQUE WAS MENTIONED}')\n",
    "plt.ylabel(r'\\textbf{METHODS}')\n",
    "plt.title(r'\\textbf{SOME FORECASTING METHODS THAT HAVE BEEN USED BETWEEN 1990-2000}', fontsize=14, color='k')\n",
    "\n",
    "plt.grid(True)\n",
    "#plt.savefig('figure_3')\n",
    "plt.show()"
   ]
  },
  {
   "cell_type": "code",
   "execution_count": 33,
   "metadata": {},
   "outputs": [],
   "source": [
    "#Searching Time Series Forecasting Topics\n",
    "\n",
    "#DEMAND\n",
    "demand = search_tuple(Keywords_1990, 'DEMAND')\n",
    "\n",
    "#RETURNS\n",
    "returns1 = search_tuple(Keywords_1990, 'STOCK RETURNS')\n",
    "returns2 = search_tuple(Keywords_1990, 'RETURNS')\n",
    "\n",
    "#MARKET\n",
    "market1 = search_tuple(Keywords_1990, 'MARKET')\n",
    "market2 = search_tuple(Keywords_1990, 'MARKETS')\n",
    "\n",
    "#ECONOMIC\n",
    "economic1 = search_tuple(Keywords_1990, 'ECONOMIC TIME-SERIES')\n",
    "economic2 = search_tuple(Keywords_1990, 'MACROECONOMIC TIME-SERIES')\n",
    "economic3 = search_tuple(Keywords_1990, 'ECONOMIC FORECASTS')\n",
    "economic4 = search_tuple(Keywords_1990, 'ECONOMY')\n",
    "economic5 = search_tuple(Keywords_1990, 'INFLATION')\n",
    "economic6 = search_tuple(Keywords_1990, 'INTEREST-RATES')\n",
    "economic7 = search_tuple(Keywords_1990, 'RATES')\n",
    "\n",
    "#WEATHER\n",
    "weather1 = search_tuple(Keywords_1990, 'PRECIPITATION')\n",
    "weather2 = search_tuple(Keywords_1990, 'CLIMATE')\n",
    "weather3 = search_tuple(Keywords_1990, 'SEA-SURFACE TEMPERATURE')\n",
    "weather4 = search_tuple(Keywords_1990, 'TEMPERATURES')\n",
    "weather5 = search_tuple(Keywords_1990, 'WEATHER')\n",
    "weather6 = search_tuple(Keywords_1990, 'WEATHER PREDICTION')\n",
    "weather7 = search_tuple(Keywords_1990, 'SURFACE-TEMPERATURE')\n",
    "weather8 = search_tuple(Keywords_1990, 'TEMPERATURE')\n",
    "weather9 = search_tuple(Keywords_1990, 'RAINFALL')\n",
    "\n",
    "#FINANCES\n",
    "finances1 = search_tuple(Keywords_1990, 'VOLATILITY')\n",
    "finances2 = search_tuple(Keywords_1990, 'STOCHASTIC VOLATILITY') \n",
    "\n",
    "#CONSUMPTION\n",
    "consumption1 = search_tuple(Keywords_1990, 'CONSUMPTION')"
   ]
  },
  {
   "cell_type": "code",
   "execution_count": 34,
   "metadata": {},
   "outputs": [],
   "source": [
    "#Unification list for different forecasting topics\n",
    "\n",
    "#RETURNS\n",
    "returns_id = Keywords_1990[returns1][0]\n",
    "returns_ref = Keywords_1990[returns1][1] + Keywords_1990[returns2][1]\n",
    "returns_ind = (returns_id, returns_ref)\n",
    "\n",
    "#MARKET\n",
    "market_id = Keywords_1990[market2][0]\n",
    "market_ref = Keywords_1990[market1][1] + Keywords_1990[market2][1]\n",
    "market_ind = (market_id, market_ref)\n",
    "\n",
    "#ECONOMIC\n",
    "economic_id = Keywords_1990[economic4][0]\n",
    "economic_ref = Keywords_1990[economic1][1] + Keywords_1990[economic2][1] + Keywords_1990[economic3][1] + Keywords_1990[economic4][1] + Keywords_1990[economic5][1] + Keywords_1990[economic6][1] + Keywords_1990[economic7][1]\n",
    "economic_ind = (economic_id, economic_ref)\n",
    "\n",
    "#WEATHER\n",
    "weather_id = Keywords_1990[weather5][0]\n",
    "weather_ref = Keywords_1990[weather1][1] + Keywords_1990[weather2][1] + Keywords_1990[weather3][1] + Keywords_1990[weather4][1] + Keywords_1990[weather5][1] + Keywords_1990[weather6][1] + Keywords_1990[weather7][1] + Keywords_1990[weather8][1] + + Keywords_1990[weather9][1]\n",
    "weather_ind = (weather_id, weather_ref)\n",
    "\n",
    "finances_id = Keywords_1990[finances1][0]\n",
    "finances_ref = Keywords_1990[finances1][1] + Keywords_1990[finances2][1]\n",
    "finances_ind = (finances_id, finances_ref)\n"
   ]
  },
  {
   "cell_type": "code",
   "execution_count": 35,
   "metadata": {},
   "outputs": [
    {
     "data": {
      "image/png": "[encoded data removed]",
      "text/plain": [
       "<Figure size 1152x432 with 1 Axes>"
      ]
     },
     "metadata": {
      "needs_background": "light"
     },
     "output_type": "display_data"
    }
   ],
   "source": [
    "#Bar graph for topics\n",
    "\n",
    "techniques = [Keywords_1990[demand], Keywords_1990[consumption1], returns_ind, market_ind, economic_ind, weather_ind, finances_ind]\n",
    "\n",
    "# sort in-place from highest to lowest\n",
    "techniques.sort(key=lambda x: x[1], reverse=False) \n",
    "\n",
    "# save the names and their respective scores separately\n",
    "# reverse the tuples to go from most frequent to least frequent \n",
    "technique = zip(*techniques)[0]\n",
    "score = zip(*techniques)[1]\n",
    "\n",
    "x_pos = np.arange(len(technique)) \n",
    "   \n",
    "plt.barh(x_pos, score, align='center', color='gray', edgecolor='black')\n",
    "plt.yticks(x_pos, technique)\n",
    "plt.xlabel(r'\\textbf{NUMBER OF DOCUMENTS WHERE THE TOPIC WAS MENTIONED}')\n",
    "plt.ylabel(r'\\textbf{TECHNIQUES USED}')\n",
    "plt.title(r'\\textbf{SOME TOPICS THAT HAVE BEEN STUDIED BETWEEN 1991-2000}', fontsize=14, color='k')\n",
    "\n",
    "plt.grid(True)\n",
    "#plt.savefig('figure_3')\n",
    "plt.show()"
   ]
  },
  {
   "cell_type": "markdown",
   "metadata": {},
   "source": [
    "# Subcorpus Keywords Analysis (2001 - 2010)"
   ]
  },
  {
   "cell_type": "code",
   "execution_count": 36,
   "metadata": {},
   "outputs": [
    {
     "data": {
      "text/plain": [
       "[u'abstract', 'citations', u'authorKeywords', 'authors']"
      ]
     },
     "execution_count": 36,
     "metadata": {},
     "output_type": "execute_result"
    }
   ],
   "source": [
    "#wos_corpus.index('authorKeywords')\n",
    "\n",
    "corpus_2000.index_feature('authorKeywords')\n",
    "corpus_2000.features.keys()"
   ]
  },
  {
   "cell_type": "code",
   "execution_count": 37,
   "metadata": {},
   "outputs": [
    {
     "name": "stdout",
     "output_type": "stream",
     "text": [
      "[(u'TIME-SERIES', 709.0), (u'MODELS', 366.0), (u'PREDICTION', 339.0), (u'MODEL', 297.0), (u'TESTS', 118.0), (u'SYSTEM', 118.0), (u'REGRESSION', 112.0), (u'NEURAL-NETWORKS', 107.0), (u'VARIABILITY', 103.0), (u'FORECASTS', 102.0), (u'ACCURACY', 100.0), (u'UNIT-ROOT', 93.0), (u'SYSTEMS', 92.0), (u'DYNAMICS', 85.0), (u'COINTEGRATION', 73.0), (u'INFORMATION', 73.0), (u'ARTIFICIAL NEURAL-NETWORKS', 73.0), (u'SERIES', 69.0), (u'VARIANCE', 69.0), (u'IDENTIFICATION', 69.0), (u'UNITED-STATES', 66.0), (u'INFERENCE', 65.0), (u'TIME-SERIES MODELS', 65.0), (u'VOLATILITY', 65.0), (u'RETURNS', 64.0), (u'PERFORMANCE', 64.0), (u'PRICES', 62.0), (u'DEMAND', 61.0), (u'PRECIPITATION', 61.0), (u'MARKET', 60.0), (u'SELECTION', 59.0), (u'TEMPERATURE', 57.0), (u'TRENDS', 55.0), (u'RAINFALL', 54.0), (u'BUSINESS-CYCLE', 52.0), (u'CLIMATE', 49.0), (u'TIME', 49.0), (u'PATTERNS', 49.0), (u'ENROLLMENTS', 48.0), (u'INFLATION', 47.0), (u'NEURAL-NETWORK', 47.0), (u'RISK', 45.0), (u'NETWORKS', 45.0), (u'SIMULATION', 44.0), (u'EL-NINO', 44.0), (u'BEHAVIOR', 42.0), (u'ALGORITHM', 42.0), (u'MARKETS', 41.0), (u'PREDICTABILITY', 41.0), (u'UNCERTAINTY', 39.0), (u'HYPOTHESIS', 39.0), (u'RATES', 39.0), (u'FORECAST', 38.0), (u'CONSUMPTION', 38.0), (u'IMPACT', 37.0), (u'CONDITIONAL HETEROSKEDASTICITY', 37.0), (u'INDEX', 36.0), (u'STOCK RETURNS', 35.0), (u'HETEROSKEDASTICITY', 35.0), (u'GENETIC ALGORITHMS', 34.0), (u'PARAMETERS', 34.0), (u'CHAOTIC TIME-SERIES', 34.0), (u'CHAOS', 34.0), (u'OUTPUT', 34.0), (u'MONETARY-POLICY', 33.0), (u'COMBINATION', 33.0), (u'GROWTH', 32.0), (u'OPTIMIZATION', 31.0), (u'FLOW', 29.0), (u'ERROR-CORRECTION', 29.0), (u'ALGORITHMS', 29.0), (u'CIRCULATION', 28.0), (u'MANAGEMENT', 28.0), (u'SPECIFICATION', 27.0), (u'AUTOREGRESSIVE CONDITIONAL HETEROSKEDASTICITY', 27.0), (u'VARIABLES', 27.0), (u'OCEAN', 26.0), (u'DISTRIBUTIONS', 26.0), (u'SUPPORT VECTOR MACHINES', 26.0), (u'REGIME', 25.0), (u'FLUCTUATIONS', 25.0), (u'ORDER', 25.0), (u'AUTOREGRESSIVE TIME-SERIES', 25.0), (u'EXCHANGE-RATES', 25.0), (u'INTEREST-RATES', 25.0), (u'ERRORS', 24.0), (u'TRANSITION AUTOREGRESSIVE MODELS', 23.0), (u'RUNOFF', 23.0), (u'TIME-SERIES ANALYSIS', 23.0), (u'CONDITIONAL HETEROSCEDASTICITY', 23.0), (u'WEATHER', 23.0), (u'CLIMATE-CHANGE', 23.0), (u'STRANGE ATTRACTORS', 23.0), (u'TERM STRUCTURE', 23.0), (u'POWER', 22.0), (u'ENSO', 22.0), (u'ARIMA', 21.0), (u'DESIGN', 21.0), (u'SEA', 21.0), (u'STOCHASTIC VOLATILITY', 21.0), (u'PARAMETER', 20.0), (u'AREA', 20.0), (u'OSCILLATION', 20.0), (u'VALIDATION', 20.0), (u'ARTIFICIAL NEURAL-NETWORK', 20.0), (u'MULTILAYER FEEDFORWARD NETWORKS', 20.0), (u'BOOTSTRAP', 19.0), (u'STOCK-MARKET VOLATILITY', 19.0), (u'AIR-POLLUTION', 19.0), (u'PREDICTION INTERVALS', 19.0), (u'SCHEME', 19.0), (u'CONVECTION', 19.0), (u'INTERANNUAL VARIABILITY', 19.0), (u'RAINFALL-RUNOFF MODELS', 19.0), (u'DATA ASSIMILATION', 19.0), (u'ATMOSPHERE', 19.0), (u'SPACE', 18.0), (u'RULES', 18.0), (u'MORTALITY', 18.0), (u'NORTH-ATLANTIC OSCILLATION', 18.0), (u'COINTEGRATION VECTORS', 18.0), (u'STATE', 18.0), (u'COMBINING FORECASTS', 18.0), (u'EXPECTATIONS', 18.0), (u'INTEGRATION', 18.0), (u'NETWORK', 18.0), (u'SAMPLE', 18.0), (u'GENETIC ALGORITHM', 18.0), (u'SENSITIVITY', 18.0), (u'NEURAL NETWORKS', 18.0), (u'GENERATION', 17.0), (u'SOIL-MOISTURE', 17.0), (u'DENSITY FORECASTS', 17.0), (u'ARIMA MODELS', 17.0), (u'FORECASTING ENROLLMENTS', 17.0), (u'LINEAR-MODELS', 17.0), (u'ADJUSTMENT', 17.0), (u'TURNING-POINTS', 17.0), (u'PART II', 17.0), (u'ECONOMIC TIME-SERIES', 16.0), (u'BUSINESS CYCLES', 16.0), (u'PRICE', 16.0), (u'MODEL SELECTION', 16.0), (u'DECOMPOSITION', 16.0), (u'WATER', 16.0), (u'PREDICTIVE ABILITY', 16.0), (u'INTERVALS', 16.0), (u'SIMULATIONS', 16.0), (u'MONEY', 16.0), (u'PERSISTENCE', 16.0), (u'ERROR', 16.0), (u'TRANSPORT', 16.0), (u'ESTIMATORS', 16.0), (u'CALIBRATION', 16.0), (u'STATE-SPACE MODELS', 15.0), (u'POLLUTION', 15.0), (u'EFFICIENCY', 15.0), (u'SEA-SURFACE TEMPERATURE', 15.0), (u'MAXIMUM-LIKELIHOOD-ESTIMATION', 15.0), (u'OPTIONS', 15.0), (u'CYCLE', 15.0), (u'NUMBER', 15.0), (u'APPROXIMATION', 14.0), (u'CONVERGENCE', 14.0), (u'HETEROSCEDASTICITY', 14.0), (u'PARAMETERIZATION', 14.0), (u'AUSTRALIA', 14.0), (u'COMPONENTS', 14.0), (u'IMPLEMENTATION', 14.0), (u'STRUCTURAL-CHANGE', 14.0), (u'RIVER', 14.0), (u'DYNAMIC-FACTOR MODEL', 14.0), (u'OZONE', 14.0), (u'KALMAN FILTER', 14.0), (u'UNIT ROOTS', 14.0), (u'NONLINEAR DYNAMICS', 14.0), (u'REGRESSION-MODELS', 14.0), (u'STATIONARITY', 14.0), (u'PREDICTIONS', 14.0), (u'LEADING INDICATORS', 13.0), (u'CAUSALITY', 13.0), (u'NUISANCE PARAMETER', 13.0), (u'LONG-RANGE DEPENDENCE', 13.0), (u'UK', 13.0), (u'CLASSIFICATION', 13.0), (u'SOUTHERN OSCILLATION', 13.0), (u'ANOMALIES', 13.0), (u'LOAD', 13.0), (u'SPECTRUM', 13.0), (u'DIMENSION', 13.0), (u'EVOLUTION', 13.0), (u'PART I', 13.0), (u'GENERAL-CIRCULATION MODEL', 13.0), (u'SPAIN', 13.0), (u'STATISTICS', 13.0), (u'AUTOREGRESSIVE MODELS', 12.0), (u'PACIFIC', 12.0), (u'NOISE', 12.0), (u'EUROPE', 12.0), (u'SPEED', 12.0)]\n"
     ]
    }
   ],
   "source": [
    "store = list()\n",
    "featureset = corpus_2000.features['authorKeywords']\n",
    "for k, count in featureset.documentCounts.items():\n",
    "    store.append((featureset.index[k], count))\n",
    "\n",
    "Keywords_2000 = sorted(store, key=lambda x: x[1], reverse=True)\n",
    "\n",
    "print(Keywords_2000[:200])"
   ]
  },
  {
   "cell_type": "code",
   "execution_count": 38,
   "metadata": {},
   "outputs": [],
   "source": [
    "#Searching Time Series Forecasting Methods\n",
    "\n",
    "#REGRESSION\n",
    "regress1 = search_tuple(Keywords_2000, 'REGRESSION')\n",
    "regress2 = search_tuple(Keywords_2000, 'AUTOREGRESSIVE TIME-SERIES')\n",
    "regress3 = search_tuple(Keywords_2000, 'TRANSITION AUTOREGRESSIVE MODELS')\n",
    "regress4 = search_tuple(Keywords_2000, 'AUTOREGRESSIVE MODELS')\n",
    "regress5 = search_tuple(Keywords_2000, 'REGRESSION-MODELS')\n",
    "regress6 = search_tuple(Keywords_2000, 'LINEAR-MODELS')\n",
    "\n",
    "#NEURAL-NETWORKS\n",
    "neural1 = search_tuple(Keywords_2000, 'NEURAL-NETWORKS')\n",
    "neural2 = search_tuple(Keywords_2000, 'ARTIFICIAL NEURAL-NETWORKS')\n",
    "neural3 = search_tuple(Keywords_2000, 'NEURAL-NETWORK')\n",
    "neural4 = search_tuple(Keywords_2000, 'NETWORKS')\n",
    "neural5 = search_tuple(Keywords_2000, 'ARTIFICIAL NEURAL-NETWORK')\n",
    "neural6 = search_tuple(Keywords_2000, 'MULTILAYER FEEDFORWARD NETWORKS')\n",
    "neural7 = search_tuple(Keywords_2000, 'NEURAL NETWORKS')\n",
    "\n",
    "#GENETIC ALGORITHMS\n",
    "genetic1 = search_tuple(Keywords_2000, 'GENETIC ALGORITHMS')\n",
    "genetic2 = search_tuple(Keywords_2000, 'GENETIC ALGORITHM')\n",
    "\n",
    "#HETEROSKEDASTICITY\n",
    "hetero1 = search_tuple(Keywords_2000, 'HETEROSKEDASTICITY')\n",
    "hetero2 = search_tuple(Keywords_2000, 'CONDITIONAL HETEROSKEDASTICITY')\n",
    "hetero3 = search_tuple(Keywords_2000, 'AUTOREGRESSIVE CONDITIONAL HETEROSKEDASTICITY')\n",
    "hetero4 = search_tuple(Keywords_2000, 'CONDITIONAL HETEROSCEDASTICITY')\n",
    "hetero5 = search_tuple(Keywords_2000, 'HETEROSCEDASTICITY')\n",
    "\n",
    "#ARIMA\n",
    "arima1 = search_tuple(Keywords_2000, 'ARIMA')\n",
    "arima2 = search_tuple(Keywords_2000, 'ARIMA MODELS')\n",
    "\n",
    "#SUPPORT VECTOR MACHINES\n",
    "svm1 = search_tuple(Keywords_2000, 'SUPPORT VECTOR MACHINES')\n",
    "\n",
    "#KALMAN FILTER\n",
    "kalman1 = search_tuple(Keywords_2000, 'KALMAN FILTER')\n",
    "\n",
    "#BOOTSTRAP\n",
    "bootstrap1 = search_tuple(Keywords_2000, 'BOOTSTRAP')\n",
    "\n",
    "#COINTEGRATION VECTORS\n",
    "vector1 = search_tuple(Keywords_2000, 'COINTEGRATION VECTORS')\n"
   ]
  },
  {
   "cell_type": "code",
   "execution_count": 39,
   "metadata": {},
   "outputs": [],
   "source": [
    "#Unification list for different forecasting methods\n",
    "\n",
    "#REGRESSION\n",
    "regress_id = Keywords_2000[regress1][0]\n",
    "regress_ref = Keywords_2000[regress1][1] + Keywords_2000[regress2][1] + Keywords_2000[regress3][1] + Keywords_2000[regress4][1] + Keywords_2000[regress5][1] + Keywords_2000[regress6][1]  \n",
    "regress_ind = (regress_id, regress_ref)\n",
    "\n",
    "#NEURAL-NETWORKS\n",
    "neural_id = Keywords_2000[neural1][0]\n",
    "neural_ref = Keywords_2000[neural1][1] + Keywords_2000[neural2][1] + Keywords_2000[neural3][1] + Keywords_2000[neural4][1] + Keywords_2000[neural5][1] + Keywords_2000[neural6][1] + Keywords_2000[neural7][1] \n",
    "neural_ind = (neural_id, neural_ref)\n",
    "\n",
    "#GENETIC ALGORITHMS\n",
    "genetic_id = Keywords_2000[genetic1][0]\n",
    "genetic_ref = Keywords_2000[genetic1][1] + Keywords_2000[genetic2][1] \n",
    "genetic_ind = (genetic_id, genetic_ref)\n",
    "\n",
    "#HETEROSKEDASTICITY\n",
    "hetero_id = Keywords_2000[hetero1][0]\n",
    "hetero_ref = Keywords_2000[hetero1][1] + Keywords_2000[hetero2][1] + Keywords_2000[hetero3][1] + Keywords_2000[hetero4][1] + Keywords_2000[hetero5][1]  \n",
    "hetero_ind = (hetero_id, hetero_ref)\n",
    "\n",
    "#ARIMA\n",
    "arima_id = Keywords_2000[arima1][0]\n",
    "arima_ref = Keywords_2000[arima1][1] + Keywords_2000[arima2][1] \n",
    "arima_ind = (arima_id, arima_ref)\n"
   ]
  },
  {
   "cell_type": "code",
   "execution_count": 40,
   "metadata": {},
   "outputs": [
    {
     "data": {
      "image/png": "[encoded data removed]",
      "text/plain": [
       "<Figure size 1152x432 with 1 Axes>"
      ]
     },
     "metadata": {
      "needs_background": "light"
     },
     "output_type": "display_data"
    }
   ],
   "source": [
    "#Bar graph for methods\n",
    "\n",
    "techniques = [Keywords_2000[vector1], Keywords_2000[bootstrap1], Keywords_2000[kalman1], Keywords_2000[svm1], arima_ind, hetero_ind, genetic_ind, neural_ind, regress_ind]\n",
    "\n",
    "                                                                   \n",
    "# sort in-place from highest to lowest\n",
    "techniques.sort(key=lambda x: x[1], reverse=False) \n",
    "\n",
    "# save the names and their respective scores separately\n",
    "# reverse the tuples to go from most frequent to least frequent \n",
    "technique = zip(*techniques)[0]\n",
    "score = zip(*techniques)[1]\n",
    "\n",
    "x_pos = np.arange(len(technique)) \n",
    "   \n",
    "plt.barh(x_pos, score, align='center', color='gray', edgecolor='black')\n",
    "plt.yticks(x_pos, technique)\n",
    "plt.xlabel(r'\\textbf{NUMBER OF DOCUMENTS WHERE THE METHOD WAS MENTIONED}')\n",
    "plt.ylabel(r'\\textbf{METHODS}')\n",
    "plt.title(r'\\textbf{SOME FORECASTING METHODS THAT HAVE BEEN USED BETWEEN 2001-2010}', fontsize=14, color='k')\n",
    "\n",
    "plt.grid(True)\n",
    "#plt.savefig('figure_3')\n",
    "plt.show()"
   ]
  },
  {
   "cell_type": "code",
   "execution_count": 41,
   "metadata": {},
   "outputs": [],
   "source": [
    "#Searching Time Series Forecasting topics\n",
    "\n",
    "#DEMAND\n",
    "demand1 = search_tuple(Keywords_2000, 'DEMAND')\n",
    "\n",
    "#CONSUMPTION\n",
    "consumption1 = search_tuple(Keywords_2000, 'CONSUMPTION')\n",
    "\n",
    "#TRENDS\n",
    "trends1 = search_tuple(Keywords_2000, 'TRENDS')\n",
    "\n",
    "#VOLATILITY\n",
    "volatil1 = search_tuple(Keywords_2000, 'VOLATILITY')\n",
    "volatil2 = search_tuple(Keywords_2000, 'STOCK-MARKET VOLATILITY')\n",
    "volatil3 = search_tuple(Keywords_2000, 'STOCHASTIC VOLATILITY')\n",
    "\n",
    "#MARKET\n",
    "market1 = search_tuple(Keywords_2000, 'MARKET')\n",
    "market2 = search_tuple(Keywords_2000, 'RETURNS')\n",
    "market3 = search_tuple(Keywords_2000, 'MARKETS')\n",
    "market4 = search_tuple(Keywords_2000, 'PRICES')\n",
    "market5 = search_tuple(Keywords_2000, 'STOCK RETURNS')\n",
    "\n",
    "#WEATHER\n",
    "weather1 = search_tuple(Keywords_2000, 'WEATHER')\n",
    "weather2 = search_tuple(Keywords_2000, 'TEMPERATURE')\n",
    "weather3 = search_tuple(Keywords_2000, 'RAINFALL')\n",
    "weather4 = search_tuple(Keywords_2000, 'CLIMATE')\n",
    "weather5 = search_tuple(Keywords_2000, 'EL-NINO')\n",
    "weather6 = search_tuple(Keywords_2000, 'PRECIPITATION')\n",
    "weather7 = search_tuple(Keywords_2000, 'CLIMATE-CHANGE')\n",
    "weather8 = search_tuple(Keywords_2000, 'SEA')\n",
    "weather9 = search_tuple(Keywords_2000, 'AIR-POLLUTION')\n",
    "weather10 = search_tuple(Keywords_2000, 'RAINFALL-RUNOFF MODELS')\n",
    "weather11 = search_tuple(Keywords_2000, 'NORTH-ATLANTIC OSCILLATION')\n",
    "weather12 = search_tuple(Keywords_2000, 'SOUTHERN OSCILLATION')\n",
    "weather13 = search_tuple(Keywords_2000, 'ATMOSPHERE')\n",
    "weather14 = search_tuple(Keywords_2000, 'SOIL-MOISTURE')\n",
    "weather15 = search_tuple(Keywords_2000, 'WATER')\n",
    "weather16 = search_tuple(Keywords_2000, 'RIVER')\n",
    "weather17 = search_tuple(Keywords_2000, 'SEA-SURFACE TEMPERATURE')\n",
    "weather18 = search_tuple(Keywords_2000, 'POLLUTION')\n",
    "weather19 = search_tuple(Keywords_2000, 'ZONE')\n",
    "\n",
    "#ECONOMIC TIME-SERIES\n",
    "economic1 = search_tuple(Keywords_2000, 'ECONOMIC TIME-SERIES')\n",
    "economic2 = search_tuple(Keywords_2000, 'BUSINESS-CYCLE')\n",
    "economic3 = search_tuple(Keywords_2000, 'INFLATION')\n",
    "economic4 = search_tuple(Keywords_2000, 'RISK')\n",
    "economic5 = search_tuple(Keywords_2000, 'RATES')\n",
    "economic6 = search_tuple(Keywords_2000, 'MONETARY-POLICY')\n",
    "economic7 = search_tuple(Keywords_2000, 'EXCHANGE-RATES')\n",
    "economic8 = search_tuple(Keywords_2000, 'INTEREST-RATES')\n",
    "economic9 = search_tuple(Keywords_2000, 'BUSINESS CYCLES')\n",
    "economic10 = search_tuple(Keywords_2000, 'PRICE')\n"
   ]
  },
  {
   "cell_type": "code",
   "execution_count": 42,
   "metadata": {},
   "outputs": [],
   "source": [
    "#Unification list for different forecasting methods\n",
    "\n",
    "#VOLATILITY\n",
    "volatil_id = Keywords_2000[volatil1][0]\n",
    "volatil_ref = Keywords_2000[volatil1][1] + Keywords_2000[volatil2][1]  \n",
    "volatil_ind = (volatil_id, volatil_ref)\n",
    "\n",
    "#MARKET\n",
    "market_id = Keywords_2000[market1][0]\n",
    "market_ref = Keywords_2000[market1][1] + Keywords_2000[market2][1] + Keywords_2000[market3][1] + Keywords_2000[market4][1] + Keywords_2000[market5][1] \n",
    "market_ind = (market_id, market_ref)\n",
    "\n",
    "#WEATHER\n",
    "weather_id = Keywords_2000[weather1][0]\n",
    "weather_ref = Keywords_2000[weather1][1] + Keywords_2000[weather2][1] + Keywords_2000[weather3][1] + Keywords_2000[weather4][1] + Keywords_2000[weather5][1] + Keywords_2000[weather6][1] + Keywords_2000[weather7][1] + Keywords_2000[weather8][1] + Keywords_2000[weather9][1] + Keywords_2000[weather10][1] + Keywords_2000[weather11][1] + Keywords_2000[weather12][1] + Keywords_2000[weather13][1] + Keywords_2000[weather14][1] + Keywords_2000[weather15][1] + Keywords_2000[weather16][1] + Keywords_2000[weather17][1] + Keywords_2000[weather18][1] + Keywords_2000[weather19][1] \n",
    "weather_ind = (weather_id, weather_ref)\n",
    "\n",
    "#ECONOMIC TIME-SERIES\n",
    "economic_id = Keywords_2000[economic1][0]\n",
    "economic_ref = Keywords_2000[economic1][1] + Keywords_2000[economic2][1] + Keywords_2000[economic3][1] + Keywords_2000[economic4][1] + Keywords_2000[economic5][1] + Keywords_2000[economic6][1] + Keywords_2000[economic7][1] + Keywords_2000[economic8][1] + Keywords_2000[economic9][1] + Keywords_2000[economic10][1] \n",
    "economic_ind = (economic_id, economic_ref)\n"
   ]
  },
  {
   "cell_type": "code",
   "execution_count": 43,
   "metadata": {},
   "outputs": [
    {
     "data": {
      "image/png": "[encoded data removed]",
      "text/plain": [
       "<Figure size 1152x432 with 1 Axes>"
      ]
     },
     "metadata": {
      "needs_background": "light"
     },
     "output_type": "display_data"
    }
   ],
   "source": [
    "#Bar graph for topics\n",
    "\n",
    "techniques = [Keywords_2000[demand1], Keywords_2000[consumption1], Keywords_2000[trends1], volatil_ind, market_ind, economic_ind, weather_ind]\n",
    "\n",
    "# sort in-place from highest to lowest\n",
    "techniques.sort(key=lambda x: x[1], reverse=False) \n",
    "\n",
    "# save the names and their respective scores separately\n",
    "# reverse the tuples to go from most frequent to least frequent \n",
    "technique = zip(*techniques)[0]\n",
    "score = zip(*techniques)[1]\n",
    "\n",
    "x_pos = np.arange(len(technique)) \n",
    "   \n",
    "plt.barh(x_pos, score, align='center', color='gray', edgecolor='black')\n",
    "plt.yticks(x_pos, technique)\n",
    "plt.xlabel(r'\\textbf{NUMBER OF DOCUMENTS WHERE THE TOPIC WAS MENTIONED}')\n",
    "plt.ylabel(r'\\textbf{TECHNIQUES USED}')\n",
    "plt.title(r'\\textbf{SOME TOPICS THAT HAVE BEEN STUDIED BETWEEN 1991-2000}', fontsize=14, color='k')\n",
    "\n",
    "plt.grid(True)\n",
    "#plt.savefig('figure_3')\n",
    "plt.show()"
   ]
  },
  {
   "cell_type": "markdown",
   "metadata": {},
   "source": [
    "# Subcorpus Keywords Analysis (2011 - 2019)"
   ]
  },
  {
   "cell_type": "code",
   "execution_count": 44,
   "metadata": {},
   "outputs": [
    {
     "data": {
      "text/plain": [
       "[u'abstract', 'citations', u'authorKeywords', 'authors']"
      ]
     },
     "execution_count": 44,
     "metadata": {},
     "output_type": "execute_result"
    }
   ],
   "source": [
    "#wos_corpus.index('authorKeywords')\n",
    "\n",
    "corpus_2010.index_feature('authorKeywords')\n",
    "corpus_2010.features.keys()"
   ]
  },
  {
   "cell_type": "code",
   "execution_count": 45,
   "metadata": {},
   "outputs": [
    {
     "name": "stdout",
     "output_type": "stream",
     "text": [
      "[(u'TIME-SERIES', 2039.0), (u'PREDICTION', 1366.0), (u'MODEL', 1095.0), (u'MODELS', 844.0), (u'REGRESSION', 480.0), (u'NEURAL-NETWORKS', 476.0), (u'ARTIFICIAL NEURAL-NETWORKS', 455.0), (u'SYSTEM', 443.0), (u'ALGORITHM', 420.0), (u'NEURAL-NETWORK', 327.0), (u'SYSTEMS', 311.0), (u'PERFORMANCE', 293.0), (u'OPTIMIZATION', 292.0), (u'FORECASTS', 265.0), (u'DEMAND', 254.0), (u'DYNAMICS', 238.0), (u'VARIABILITY', 238.0), (u'SELECTION', 237.0), (u'UNIT-ROOT', 230.0), (u'VOLATILITY', 226.0), (u'SERIES', 223.0), (u'MARKET', 222.0), (u'ACCURACY', 204.0), (u'SUPPORT VECTOR MACHINES', 202.0), (u'TESTS', 190.0), (u'PRECIPITATION', 185.0), (u'IMPACT', 178.0), (u'IDENTIFICATION', 176.0), (u'INFORMATION', 174.0), (u'TEMPERATURE', 168.0), (u'DECOMPOSITION', 163.0), (u'RISK', 163.0), (u'CLIMATE-CHANGE', 162.0), (u'ENROLLMENTS', 159.0), (u'UNCERTAINTY', 155.0), (u'ARIMA', 154.0), (u'CHINA', 153.0), (u'MANAGEMENT', 153.0), (u'UNITED-STATES', 149.0), (u'CLASSIFICATION', 146.0), (u'TIME-SERIES MODELS', 144.0), (u'SIMULATION', 142.0), (u'RAINFALL', 138.0), (u'RETURNS', 137.0), (u'CLIMATE', 136.0), (u'TRENDS', 135.0), (u'PARTICLE SWARM OPTIMIZATION', 132.0), (u'COMBINATION', 131.0), (u'ARTIFICIAL NEURAL-NETWORK', 131.0), (u'FORECAST', 130.0), (u'TIME', 129.0), (u'NETWORKS', 125.0), (u'NETWORK', 124.0), (u'MARKETS', 124.0), (u'SUPPORT VECTOR REGRESSION', 124.0), (u'INFERENCE', 122.0), (u'INFLATION', 121.0), (u'GENETIC ALGORITHMS', 118.0), (u'GENERATION', 117.0), (u'CONSUMPTION', 114.0), (u'POWER', 113.0), (u'ALGORITHMS', 112.0), (u'GENETIC ALGORITHM', 111.0), (u'RIVER', 110.0), (u'TIME-SERIES PREDICTION', 110.0), (u'GROWTH', 110.0), (u'PARAMETERS', 105.0), (u'INTERVALS', 103.0), (u'PRICES', 102.0), (u'EMPIRICAL MODE DECOMPOSITION', 101.0), (u'TIME-SERIES ANALYSIS', 100.0), (u'ENERGY', 100.0), (u'INDEX', 100.0), (u'WAVELET TRANSFORM', 98.0), (u'COINTEGRATION', 96.0), (u'FLOW', 95.0), (u'PATTERNS', 95.0), (u'VARIANCE', 90.0), (u'AUTOREGRESSIVE CONDITIONAL HETEROSKEDASTICITY', 90.0), (u'PREDICTABILITY', 87.0), (u'DISTRIBUTIONS', 84.0), (u'VALIDATION', 80.0), (u'ENSEMBLE', 78.0), (u'MONETARY-POLICY', 78.0), (u'RATES', 78.0), (u'FLUCTUATIONS', 73.0), (u'LOAD', 73.0), (u'WEATHER', 73.0), (u'RUNOFF', 73.0), (u'VARIABLES', 72.0), (u'DESIGN', 72.0), (u'FUZZY INFERENCE SYSTEM', 71.0), (u'EXTREME LEARNING-MACHINE', 70.0), (u'PRICE', 69.0), (u'ENERGY-CONSUMPTION', 69.0), (u'FORECASTING ENROLLMENTS', 68.0), (u'MORTALITY', 68.0), (u'TRANSFORM', 68.0), (u'NUMBER', 67.0), (u'PART I', 67.0), (u'STOCK RETURNS', 66.0), (u'SPEED', 66.0), (u'OUTPUT', 65.0), (u'BUSINESS-CYCLE', 65.0), (u'WAVELET', 65.0), (u'SUPPORT VECTOR MACHINE', 64.0), (u'TRANSMISSION', 63.0), (u'MACHINES', 63.0), (u'FRAMEWORK', 62.0), (u'TEMPERATURE PREDICTION', 61.0), (u'DATA ASSIMILATION', 61.0), (u'EL-NINO', 60.0), (u'STATE', 59.0), (u'FEATURE-SELECTION', 59.0), (u'MACHINE', 59.0), (u'INTEGRATION', 58.0), (u'CALIBRATION', 58.0), (u'STOCK-MARKET', 58.0), (u'WATER', 56.0), (u'CONDITIONAL HETEROSKEDASTICITY', 55.0), (u'METHODOLOGY', 55.0), (u'BEHAVIOR', 55.0), (u'EVOLUTION', 54.0), (u'ANN', 53.0), (u'CHAOS', 52.0), (u'HYBRID ARIMA', 51.0), (u'ARIMA MODELS', 50.0), (u'STREAMFLOW', 50.0), (u'HYPOTHESIS', 50.0), (u'TURKEY', 50.0), (u'CIRCULATION', 49.0), (u'SETS', 49.0), (u'RADIATION', 49.0), (u'ANFIS', 47.0), (u'FUZZY TIME-SERIES', 47.0), (u'REALIZED VOLATILITY', 47.0), (u'LENGTHS', 46.0), (u'STOCHASTIC VOLATILITY', 46.0), (u'INDEXES', 46.0), (u'SIMULATIONS', 46.0), (u'INDUSTRY', 46.0), (u'VOLUME', 46.0), (u'BASIN', 45.0), (u'SHOCKS', 45.0), (u'REANALYSIS', 45.0), (u'TERM STRUCTURE', 45.0), (u'DISEASE', 44.0), (u'SINGULAR SPECTRUM ANALYSIS', 44.0), (u'KALMAN FILTER', 44.0), (u'AIR-POLLUTION', 44.0), (u'INFERENCE SYSTEM', 43.0), (u'GARCH MODELS', 43.0), (u'EXCHANGE-RATES', 43.0), (u'INTEREST-RATES', 43.0), (u'SENSITIVITY', 43.0), (u'STOCK', 43.0), (u'QUALITY', 43.0), (u'LONG-MEMORY', 42.0), (u'RESOLUTION', 42.0), (u'HONG-KONG', 42.0), (u'US', 41.0), (u'WIND-SPEED', 41.0), (u'ECONOMIC-GROWTH', 41.0), (u'OCEAN', 41.0), (u'EUROPE', 40.0), (u'REGIME', 40.0), (u'DENSITY FORECASTS', 40.0), (u'SCALE', 39.0), (u'IMPACTS', 39.0), (u'HEALTH', 39.0), (u'TRANSPORT', 39.0), (u'ERROR', 39.0), (u'HYBRID MODEL', 38.0), (u'FORECASTING-MODEL', 37.0), (u'PREDICTORS', 37.0), (u'HETEROSKEDASTICITY', 37.0), (u'SHORT-TERM', 37.0), (u'LENGTH', 37.0), (u'REAL-TIME', 37.0), (u'ERRORS', 37.0), (u'RESERVOIR', 37.0), (u'EMISSIONS', 37.0), (u'POWER-GENERATION', 36.0), (u'FUZZY', 36.0), (u'POLLUTION', 36.0), (u'RIVER-BASIN', 35.0), (u'COUNTRIES', 35.0), (u'ESTIMATORS', 35.0), (u'ELECTRICITY CONSUMPTION', 35.0), (u'DEPENDENCE', 35.0), (u'SATELLITE', 34.0), (u'NEURAL-NETWORK MODEL', 34.0), (u'ENSO', 34.0), (u'EFFICIENCY', 34.0), (u'STATISTICS', 34.0), (u'SURFACE', 33.0), (u'AUTOREGRESSIVE MODELS', 33.0), (u'EVENTS', 33.0), (u'WIND', 33.0), (u'SHRINKAGE', 33.0)]\n"
     ]
    }
   ],
   "source": [
    "store = list()\n",
    "featureset = corpus_2010.features['authorKeywords']\n",
    "for k, count in featureset.documentCounts.items():\n",
    "    store.append((featureset.index[k], count))\n",
    "\n",
    "Keywords_2010 = sorted(store, key=lambda x: x[1], reverse=True)\n",
    "\n",
    "print(Keywords_2010[:200])"
   ]
  },
  {
   "cell_type": "code",
   "execution_count": 56,
   "metadata": {},
   "outputs": [],
   "source": [
    "#Searching Time Series Forecasting Methods\n",
    "\n",
    "#REGRESSION\n",
    "regress1 = search_tuple(Keywords_2010, 'REGRESSION')\n",
    "regress2 = search_tuple(Keywords_2010, 'AUTOREGRESSIVE MODELS')\n",
    "regress3 = search_tuple(Keywords_2010, 'GARCH MODELS')\n",
    "\n",
    "#NEURAL-NETWORKS\n",
    "neural1 = search_tuple(Keywords_2010, 'NEURAL-NETWORKS')\n",
    "neural2 = search_tuple(Keywords_2010, 'ARTIFICIAL NEURAL-NETWORKS')\n",
    "neural3 = search_tuple(Keywords_2010, 'NEURAL-NETWORK')\n",
    "neural4 = search_tuple(Keywords_2010, 'ARTIFICIAL NEURAL-NETWORK')\n",
    "neural5 = search_tuple(Keywords_2010, 'NETWORKS')\n",
    "neural6 = search_tuple(Keywords_2010, 'NETWORK')\n",
    "neural7 = search_tuple(Keywords_2010, 'ANN')\n",
    "neural8 = search_tuple(Keywords_2010, 'NEURAL-NETWORK MODEL')\n",
    "\n",
    "#OPTIMIZATION\n",
    "optimiza1 = search_tuple(Keywords_2010, 'OPTIMIZATION')\n",
    "optimiza2 = search_tuple(Keywords_2010, 'PARTICLE SWARM OPTIMIZATION')\n",
    "\n",
    "#GENETIC ALGORITHM\n",
    "genetic1 = search_tuple(Keywords_2010, 'GENETIC ALGORITHM')\n",
    "genetic2 = search_tuple(Keywords_2010, 'GENETIC ALGORITHMS')\n",
    "\n",
    "#HETEROSKEDASTICITY\n",
    "hetero1 = search_tuple(Keywords_2010, 'HETEROSKEDASTICITY')\n",
    "hetero2 = search_tuple(Keywords_2010, 'CONDITIONAL HETEROSKEDASTICITY')\n",
    "hetero3 = search_tuple(Keywords_2010, 'AUTOREGRESSIVE CONDITIONAL HETEROSKEDASTICITY')\n",
    "\n",
    "#SVM\n",
    "svm1 = search_tuple(Keywords_2010, 'SUPPORT VECTOR MACHINES')\n",
    "svm1 = search_tuple(Keywords_2010, 'SUPPORT VECTOR REGRESSION')\n",
    "svm1 = search_tuple(Keywords_2010, 'SUPPORT VECTOR MACHINE')\n",
    "\n",
    "#ARIMA\n",
    "arima1 = search_tuple(Keywords_2010, 'ARIMA')\n",
    "arima2 = search_tuple(Keywords_2010, 'ARIMA MODELS')\n",
    "\n",
    "#HYBRID\n",
    "hybrid1 = search_tuple(Keywords_2010, 'HYBRID MODEL')\n",
    "hybrid2 = search_tuple(Keywords_2010, 'HYBRID ARIMA')\n",
    "\n",
    "#SIMULATION\n",
    "simula1 = search_tuple(Keywords_2010, 'SIMULATION')\n",
    "simula2 = search_tuple(Keywords_2010, 'SIMULATIONS')\n",
    "\n",
    "#WAVELET\n",
    "wavelet1 = search_tuple(Keywords_2010, 'WAVELET TRANSFORM')\n",
    "wavelet2 = search_tuple(Keywords_2010, 'WAVELET')\n",
    "\n",
    "#FUZZY\n",
    "fuzzy1 = search_tuple(Keywords_2010, 'FUZZY TIME-SERIES')\n",
    "fuzzy2 = search_tuple(Keywords_2010, 'FUZZY INFERENCE SYSTEM')\n",
    "fuzzy3 = search_tuple(Keywords_2010, 'FUZZY')\n",
    "fuzzy4 = search_tuple(Keywords_2010, 'ANFIS')\n",
    "\n",
    "#LEARNING-MACHINE\n",
    "ml1 = search_tuple(Keywords_2010, 'EXTREME LEARNING-MACHINES')\n",
    "\n",
    "#ENSEMBLE\n",
    "ensemble1 = search_tuple(Keywords_2010, 'ENSEMBLE')\n"
   ]
  },
  {
   "cell_type": "code",
   "execution_count": 46,
   "metadata": {},
   "outputs": [],
   "source": [
    "winter = search_tuple(Keywords_1990, 'HOLT-WINTERS')\n",
    "winter = search_tuple(Keywords_1990, 'HOLT-WINTERS')\n",
    "winter = search_tuple(Keywords_1990, 'HOLT-WINTERS')\n",
    "winter = search_tuple(Keywords_1990, 'HOLT-WINTERS')\n",
    "winter = search_tuple(Keywords_1990, 'HOLT-WINTERS')"
   ]
  },
  {
   "cell_type": "markdown",
   "metadata": {},
   "source": [
    " \n",
    " \n",
    "(u'TRENDS', 135.0),  \n",
    "     \n",
    "(u'INFLATION', 121.0), (u'INTEREST-RATES', 43.0),   (u'ECONOMIC-GROWTH', 41.0), (u'MONETARY-POLICY', 78.0), (u'RISK', 163.0), (u'RATES', 78.0), (u'BUSINESS-CYCLE', 65.0), (u'SHRINKAGE', 33.0)\n",
    "\n",
    "(u'WEATHER', 73.0), (u'TEMPERATURE', 168.0), (u'CLIMATE-CHANGE', 162.0), (u'RAINFALL', 138.0), (u'CLIMATE', 136.0), (u'RIVER', 110.0), (u'PRECIPITATION', 185.0), (u'EL-NINO', 60.0),  (u'WATER', 56.0), (u'AIR-POLLUTION', 44.0), (u'WIND-SPEED', 41.0), (u'OCEAN', 41.0), (u'POLLUTION', 36.0), (u'RIVER-BASIN', 35.0), (u'WIND', 33.0), (u'TEMPERATURE PREDICTION', 61.0), (u'RADIATION', 49.0), (u'ENSO', 34.0),\n",
    "\n",
    "(u'ENERGY', 100.0), (u'POWER', 113.0), (u'ENERGY-CONSUMPTION', 69.0), (u'POWER-GENERATION', 36.0), (u'ELECTRICITY CONSUMPTION', 35.0),\n",
    " \n",
    "(u'DEMAND', 254.0), \n",
    "\n",
    "(u'VOLATILITY', 226.0), (u'REALIZED VOLATILITY', 47.0), (u'STOCHASTIC VOLATILITY', 46.0),\n",
    "\n",
    "(u'MARKET', 222.0), (u'MARKETS', 124.0), (u'PRICES', 102.0), (u'RETURNS', 137.0), (u'PRICE', 69.0), (u'STOCK-MARKET', 58.0), (u'STOCK', 43.0), (u'STOCK RETURNS', 66.0), \n",
    "\n"
   ]
  }
 ],
 "metadata": {
  "kernelspec": {
   "display_name": "Python 2",
   "language": "python",
   "name": "python2"
  },
  "language_info": {
   "codemirror_mode": {
    "name": "ipython",
    "version": 2
   },
   "file_extension": ".py",
   "mimetype": "text/x-python",
   "name": "python",
   "nbconvert_exporter": "python",
   "pygments_lexer": "ipython2",
   "version": "2.7.15"
  }
 },
 "nbformat": 4,
 "nbformat_minor": 2
}
